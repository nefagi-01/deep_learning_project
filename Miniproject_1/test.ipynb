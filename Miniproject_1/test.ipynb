{
 "cells": [
  {
   "cell_type": "markdown",
   "metadata": {
    "pycharm": {
     "name": "#%% md\n"
    },
    "id": "Nf_bU6sGnV10"
   },
   "source": [
    "Test model"
   ]
  },
  {
   "cell_type": "code",
   "execution_count": null,
   "outputs": [],
   "source": [
    "import torch\n",
    "from model import Model\n",
    "from others.psnr import compute_psnr\n",
    "from others.unet import UNet\n",
    "from others.autoencoder import AutoEncoder\n",
    "from others.rednet import REDNet\n",
    "from torch.optim import Adam, SGD\n",
    "from custom_model import MyModel"
   ],
   "metadata": {
    "collapsed": false,
    "pycharm": {
     "name": "#%%\n"
    }
   }
  },
  {
   "cell_type": "code",
   "execution_count": null,
   "outputs": [],
   "source": [
    "path_train = '../data/train_data.pkl'\n",
    "path_val = '../data/val_data.pkl'\n",
    "noisy_imgs_1, noisy_imgs_2 = torch.load(path_train, map_location=torch.device(\"cuda\" if torch.cuda.is_available() else \"cpu\"))\n",
    "noisy_imgs_1, noisy_imgs_2 = noisy_imgs_1.float(), noisy_imgs_2.float()\n",
    "test, truth = torch.load(path_val, map_location=torch.device(\"cuda\" if torch.cuda.is_available() else \"cpu\"))\n",
    "test, truth = test.float(), truth.float()"
   ],
   "metadata": {
    "collapsed": false,
    "pycharm": {
     "name": "#%%\n"
    }
   }
  },
  {
   "cell_type": "code",
   "execution_count": null,
   "outputs": [],
   "source": [
    "def sample(tensor1, tensor2, k):\n",
    "    perm = torch.randperm(tensor1.size(0))\n",
    "    idx = perm[:k]\n",
    "    return tensor1[idx], tensor2[idx]"
   ],
   "metadata": {
    "collapsed": false,
    "pycharm": {
     "name": "#%%\n"
    }
   }
  },
  {
   "cell_type": "markdown",
   "source": [
    "## Training and testing"
   ],
   "metadata": {
    "collapsed": false,
    "pycharm": {
     "name": "#%% md\n"
    }
   }
  },
  {
   "cell_type": "code",
   "execution_count": null,
   "outputs": [],
   "source": [
    "models = [\"UNet\", \"REDNet\", \"AutoEncoder\"]\n",
    "batch_sizes = [5, 10, 20]\n",
    "epochs = 10\n",
    "s1, s2 = sample(noisy_imgs_1, noisy_imgs_2, 1000)\n",
    "t1, t2 = sample(test, truth, 1000)\n"
   ],
   "metadata": {
    "collapsed": false,
    "pycharm": {
     "name": "#%%\n"
    }
   }
  },
  {
   "cell_type": "code",
   "execution_count": null,
   "outputs": [],
   "source": [
    "def test_and_train(model, batch):\n",
    "    network = UNet() if model == \"UNet\" else (REDNet() if model == \"REDNet\" else AutoEncoder())\n",
    "    m = MyModel(network, batch)\n",
    "    m.train(s1, s2, 10)\n",
    "    return compute_psnr(m.predict(t1), t2), m"
   ],
   "metadata": {
    "collapsed": false,
    "pycharm": {
     "name": "#%%\n"
    }
   }
  },
  {
   "cell_type": "code",
   "execution_count": null,
   "outputs": [],
   "source": [
    "results = []\n",
    "for model in models:\n",
    "  for batch_size in batch_sizes:    \n",
    "    error, m = test_and_train(model, batch_size)\n",
    "    results.append(f'{model}_Layers5_Batch{batch_size}_Epochs10_Sample1000_{error}')\n",
    "    #torch.save(m.model.state_dict(), f'{model}_Layers10_Batch{batch_size}_Epochs10_Sample1000_{error}.pth')"
   ],
   "metadata": {
    "collapsed": false,
    "pycharm": {
     "name": "#%%\n"
    }
   }
  },
  {
   "cell_type": "code",
   "execution_count": null,
   "outputs": [],
   "source": [
    "results"
   ],
   "metadata": {
    "collapsed": false,
    "pycharm": {
     "name": "#%%\n"
    }
   }
  },
  {
   "cell_type": "code",
   "execution_count": 8,
   "outputs": [
    {
     "output_type": "execute_result",
     "data": {
      "text/plain": [
       "['UNet_Layers5_Batch5_Epochs10_Sample1000_24.809358596801758',\n",
       " 'UNet_Layers5_Batch10_Epochs10_Sample1000_24.92894744873047',\n",
       " 'UNet_Layers5_Batch20_Epochs10_Sample1000_24.560302734375',\n",
       " 'REDNet_Layers5_Batch5_Epochs10_Sample1000_24.46434211730957',\n",
       " 'REDNet_Layers5_Batch10_Epochs10_Sample1000_24.47145652770996',\n",
       " 'REDNet_Layers5_Batch20_Epochs10_Sample1000_24.19704818725586',\n",
       " 'AutoEncoder_Layers5_Batch5_Epochs10_Sample1000_21.843154907226562',\n",
       " 'AutoEncoder_Layers5_Batch10_Epochs10_Sample1000_21.672786712646484',\n",
       " 'AutoEncoder_Layers5_Batch20_Epochs10_Sample1000_15.181829452514648']"
      ]
     },
     "metadata": {},
     "execution_count": 8
    }
   ],
   "source": [
    "results"
   ],
   "metadata": {
    "pycharm": {
     "name": "#%%\n"
    },
    "colab": {
     "base_uri": "https://localhost:8080/"
    },
    "id": "CKHVv_GLnV15",
    "executionInfo": {
     "status": "ok",
     "timestamp": 1652901132152,
     "user_tz": -120,
     "elapsed": 4,
     "user": {
      "displayName": "Camillo Nicolò De Sabbata",
      "userId": "09576631759597949731"
     }
    },
    "outputId": "dd97f5c0-913b-4728-d4da-3ba41ac72f0d"
   }
  },
  {
   "cell_type": "code",
   "source": [
    ""
   ],
   "metadata": {
    "id": "NrGG7xW_k8HS"
   },
   "execution_count": null,
   "outputs": []
  }
 ],
 "metadata": {
  "interpreter": {
   "hash": "769d560f7a9260275cfba8eac8dfb7a8ebd643a4b3237d9fce15021d62ac6fd5"
  },
  "kernelspec": {
   "display_name": "Python 3.8.12 ('base')",
   "language": "python",
   "name": "python3"
  },
  "language_info": {
   "codemirror_mode": {
    "name": "ipython",
    "version": 3
   },
   "file_extension": ".py",
   "mimetype": "text/x-python",
   "name": "python",
   "nbconvert_exporter": "python",
   "pygments_lexer": "ipython3",
   "version": "3.8.12"
  },
  "orig_nbformat": 4,
  "colab": {
   "name": "test.ipynb",
   "provenance": [],
   "collapsed_sections": []
  },
  "accelerator": "GPU"
 },
 "nbformat": 4,
 "nbformat_minor": 0
}