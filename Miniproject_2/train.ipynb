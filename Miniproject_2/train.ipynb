{
 "cells": [
  {
   "cell_type": "markdown",
   "metadata": {
    "collapsed": false
   },
   "source": [
    "## Helper functions"
   ]
  },
  {
   "cell_type": "code",
   "execution_count": 1,
   "metadata": {},
   "outputs": [],
   "source": [
    "%load_ext autoreload\n",
    "%autoreload 2"
   ]
  },
  {
   "cell_type": "code",
   "execution_count": 2,
   "metadata": {
    "collapsed": false,
    "pycharm": {
     "name": "#%%\n"
    }
   },
   "outputs": [],
   "source": [
    "import numpy as np\n",
    "\n",
    "from others.implementations import *\n",
    "import torch\n",
    "from model import *"
   ]
  },
  {
   "cell_type": "code",
   "execution_count": 3,
   "metadata": {
    "collapsed": false,
    "pycharm": {
     "name": "#%%\n"
    }
   },
   "outputs": [],
   "source": [
    "def generate_model(shallow_hidden_channels, deep_hidden_channels):\n",
    "    return Sequential(\n",
    "        Conv2d(3, shallow_hidden_channels, kernel_size=2, stride=2, padding=0),\n",
    "        ReLU(),\n",
    "        Conv2d(shallow_hidden_channels, deep_hidden_channels, kernel_size=2, stride=2, padding=0),\n",
    "        ReLU(),\n",
    "        NearestUpsampling(scale_factor=2),\n",
    "        Conv2d(deep_hidden_channels, shallow_hidden_channels, kernel_size=3, stride=1, padding=1),\n",
    "        ReLU(),\n",
    "        NearestUpsampling(scale_factor=2),\n",
    "        Conv2d(shallow_hidden_channels, 3, kernel_size=3, stride=1, padding=1),\n",
    "        Sigmoid()\n",
    "        )\n",
    "\n",
    "def test_and_train(batch_size, hidden_channels, lr, momentum, nesterov, epochs):\n",
    "    network = generate_model(shallow_hidden_channels=hidden_channels[0], deep_hidden_channels=hidden_channels[1])\n",
    "    optimizer = SGD(network.param(), lr=lr, momentum=momentum, nesterov=nesterov)\n",
    "\n",
    "    # Instantiate model and replace network and optimizer\n",
    "    m = Model()\n",
    "    m.model = network\n",
    "    m.optimizer = optimizer\n",
    "    m.batch_size = batch_size\n",
    "\n",
    "    # Train\n",
    "    m.train(s1, s2, epochs)\n",
    "\n",
    "    return compute_psnr(m.predict(t1), t2), m\n",
    "\n",
    "def sample(tensor1, tensor2, k):\n",
    "    perm = torch.randperm(tensor1.size(0))\n",
    "    idx = perm[:k]\n",
    "    return tensor1[idx], tensor2[idx]"
   ]
  },
  {
   "cell_type": "markdown",
   "metadata": {
    "collapsed": false,
    "pycharm": {
     "name": "#%% md\n"
    }
   },
   "source": [
    "## Loading data"
   ]
  },
  {
   "cell_type": "code",
   "execution_count": 4,
   "metadata": {
    "collapsed": false,
    "pycharm": {
     "name": "#%%\n"
    }
   },
   "outputs": [],
   "source": [
    "path_train = '../data/train_data.pkl'\n",
    "path_val = '../data/val_data.pkl'\n",
    "noisy_imgs_1, noisy_imgs_2 = torch.load(path_train)\n",
    "noisy_imgs_1, noisy_imgs_2 = noisy_imgs_1.double(), noisy_imgs_2.double()\n",
    "test, truth = torch.load(path_val)\n",
    "test, truth = test.double(), truth.double()"
   ]
  },
  {
   "cell_type": "markdown",
   "metadata": {
    "collapsed": false,
    "pycharm": {
     "name": "#%% md\n"
    }
   },
   "source": [
    "## Parameters to tune"
   ]
  },
  {
   "cell_type": "code",
   "execution_count": 5,
   "metadata": {
    "collapsed": false,
    "pycharm": {
     "name": "#%%\n"
    }
   },
   "outputs": [],
   "source": [
    "# Channels parameter\n",
    "shallow_hidden_channels = [8, 16]\n",
    "deep_hidden_channels = [16, 32]\n",
    "hidden_channels = [(shallow_channel, deep_channel) for shallow_channel in shallow_hidden_channels for deep_channel in deep_hidden_channels if shallow_channel <= deep_channel]\n",
    "\n",
    "# Optimizer parameters\n",
    "lrs = np.logspace(-7, -1, 5)\n",
    "momentums = [0.9]\n",
    "nesterovs = [False]\n",
    "\n",
    "# Batch sizes\n",
    "batch_sizes = [5, 100]"
   ]
  },
  {
   "cell_type": "markdown",
   "metadata": {
    "collapsed": false,
    "pycharm": {
     "name": "#%% md\n"
    }
   },
   "source": [
    "## Training"
   ]
  },
  {
   "cell_type": "code",
   "execution_count": 6,
   "metadata": {
    "collapsed": false,
    "pycharm": {
     "name": "#%%\n"
    }
   },
   "outputs": [],
   "source": [
    "s1, s2 = sample(noisy_imgs_1, noisy_imgs_2, 5000)\n",
    "t1, t2 = sample(test, truth, 5000)"
   ]
  },
  {
   "cell_type": "code",
   "execution_count": 7,
   "metadata": {
    "collapsed": false,
    "pycharm": {
     "name": "#%%\n"
    }
   },
   "outputs": [
    {
     "name": "stdout",
     "output_type": "stream",
     "text": [
      "\n",
      "STARTING TRAINING FOR: lr1e-07_HiddenChannels(8, 16)_Batch5_Epochs5_Momentum0.9_NesterovFalse_Sample1000\n",
      "EPOCH 0 --- LOSS 0.07530038506373336\n",
      "EPOCH 1 --- LOSS 0.07530011339528125\n",
      "EPOCH 2 --- LOSS 0.07529983907350188\n",
      "EPOCH 3 --- LOSS 0.07529956477674317\n",
      "EPOCH 4 --- LOSS 0.07529929050592918\n",
      "EPOCH 4 --- FINAL LOSS 0.0752990162597544\n",
      "PSNR: 12.510194304745836\n",
      "\n",
      "STARTING TRAINING FOR: lr1e-07_HiddenChannels(8, 16)_Batch100_Epochs5_Momentum0.9_NesterovFalse_Sample1000\n",
      "EPOCH 0 --- LOSS 0.07687880009853834\n",
      "EPOCH 1 --- LOSS 0.07687878126102324\n",
      "EPOCH 2 --- LOSS 0.0768787583642343\n",
      "EPOCH 3 --- LOSS 0.07687873544671422\n",
      "EPOCH 4 --- LOSS 0.07687871252906174\n",
      "EPOCH 4 --- FINAL LOSS 0.076878689611633\n",
      "PSNR: 12.369292885855867\n",
      "\n",
      "STARTING TRAINING FOR: lr1e-07_HiddenChannels(8, 32)_Batch5_Epochs5_Momentum0.9_NesterovFalse_Sample1000\n",
      "EPOCH 0 --- LOSS 0.08021381488931849\n",
      "EPOCH 1 --- LOSS 0.08021274926959714\n",
      "EPOCH 2 --- LOSS 0.08021167363215555\n",
      "EPOCH 3 --- LOSS 0.08021059805732707\n",
      "EPOCH 4 --- LOSS 0.08020952253568024\n",
      "EPOCH 4 --- FINAL LOSS 0.08020844708572085\n",
      "PSNR: 12.122381703038492\n",
      "\n",
      "STARTING TRAINING FOR: lr1e-07_HiddenChannels(8, 32)_Batch100_Epochs5_Momentum0.9_NesterovFalse_Sample1000\n",
      "EPOCH 0 --- LOSS 0.0789361139255077\n",
      "EPOCH 1 --- LOSS 0.07893607873927239\n",
      "EPOCH 2 --- LOSS 0.07893603597643821\n",
      "EPOCH 3 --- LOSS 0.07893599317526889\n",
      "EPOCH 4 --- LOSS 0.07893595037371182\n",
      "EPOCH 4 --- FINAL LOSS 0.07893590757264717\n",
      "PSNR: 12.23746281610323\n",
      "\n",
      "STARTING TRAINING FOR: lr1e-07_HiddenChannels(16, 16)_Batch5_Epochs5_Momentum0.9_NesterovFalse_Sample1000\n",
      "EPOCH 0 --- LOSS 0.07897019172478653\n",
      "EPOCH 1 --- LOSS 0.07896948028977652\n",
      "EPOCH 2 --- LOSS 0.07896876211231259\n",
      "EPOCH 3 --- LOSS 0.07896804402553433\n",
      "EPOCH 4 --- LOSS 0.07896732602804377\n",
      "EPOCH 4 --- FINAL LOSS 0.07896660812240819\n",
      "PSNR: 12.20488978912525\n",
      "\n",
      "STARTING TRAINING FOR: lr1e-07_HiddenChannels(16, 16)_Batch100_Epochs5_Momentum0.9_NesterovFalse_Sample1000\n",
      "EPOCH 0 --- LOSS 0.07844578624866655\n",
      "EPOCH 1 --- LOSS 0.07844574999930767\n",
      "EPOCH 2 --- LOSS 0.07844570590756181\n",
      "EPOCH 3 --- LOSS 0.07844566178003669\n",
      "EPOCH 4 --- LOSS 0.07844561764965394\n",
      "EPOCH 4 --- FINAL LOSS 0.0784455735204919\n",
      "PSNR: 12.240020808830842\n",
      "\n",
      "STARTING TRAINING FOR: lr1e-07_HiddenChannels(16, 32)_Batch5_Epochs5_Momentum0.9_NesterovFalse_Sample1000\n",
      "EPOCH 0 --- LOSS 0.07874475117458178\n",
      "EPOCH 1 --- LOSS 0.07874415061381435\n",
      "EPOCH 2 --- LOSS 0.07874354438692521\n",
      "EPOCH 3 --- LOSS 0.07874293823060467\n",
      "EPOCH 4 --- LOSS 0.07874233214493667\n",
      "EPOCH 4 --- FINAL LOSS 0.07874172613011345\n",
      "PSNR: 12.257475842158097\n",
      "\n",
      "STARTING TRAINING FOR: lr1e-07_HiddenChannels(16, 32)_Batch100_Epochs5_Momentum0.9_NesterovFalse_Sample1000\n",
      "EPOCH 0 --- LOSS 0.07971829980045557\n",
      "EPOCH 1 --- LOSS 0.0797182649648565\n",
      "EPOCH 2 --- LOSS 0.07971822262229555\n",
      "EPOCH 3 --- LOSS 0.07971818024182534\n",
      "EPOCH 4 --- LOSS 0.07971813786117578\n",
      "EPOCH 4 --- FINAL LOSS 0.07971809548093853\n",
      "PSNR: 12.158937754237476\n",
      "\n",
      "STARTING TRAINING FOR: lr3.162277660168379e-06_HiddenChannels(8, 16)_Batch5_Epochs5_Momentum0.9_NesterovFalse_Sample1000\n",
      "EPOCH 0 --- LOSS 0.07724913800483339\n",
      "EPOCH 1 --- LOSS 0.07723462076968246\n",
      "EPOCH 2 --- LOSS 0.0772198983494175\n",
      "EPOCH 3 --- LOSS 0.07720510782765015\n",
      "EPOCH 4 --- LOSS 0.07719024843673811\n",
      "EPOCH 4 --- FINAL LOSS 0.07717532002301423\n",
      "PSNR: 12.350821002178536\n",
      "\n",
      "STARTING TRAINING FOR: lr3.162277660168379e-06_HiddenChannels(8, 16)_Batch100_Epochs5_Momentum0.9_NesterovFalse_Sample1000\n",
      "EPOCH 0 --- LOSS 0.07799380988123164\n",
      "EPOCH 1 --- LOSS 0.07799261594114808\n",
      "EPOCH 2 --- LOSS 0.07799116645894397\n",
      "EPOCH 3 --- LOSS 0.07798971622138842\n",
      "EPOCH 4 --- LOSS 0.07798826654756157\n",
      "EPOCH 4 --- FINAL LOSS 0.07798681744095806\n",
      "PSNR: 12.311351588107154\n",
      "\n",
      "STARTING TRAINING FOR: lr3.162277660168379e-06_HiddenChannels(8, 32)_Batch5_Epochs5_Momentum0.9_NesterovFalse_Sample1000\n",
      "EPOCH 0 --- LOSS 0.07790006517181289\n",
      "EPOCH 1 --- LOSS 0.07788690467101084\n",
      "EPOCH 2 --- LOSS 0.07787365635701975\n",
      "EPOCH 3 --- LOSS 0.07786044662468362\n",
      "EPOCH 4 --- LOSS 0.0778472755322639\n",
      "EPOCH 4 --- FINAL LOSS 0.07783414285041865\n",
      "PSNR: 12.297644047172891\n",
      "\n",
      "STARTING TRAINING FOR: lr3.162277660168379e-06_HiddenChannels(8, 32)_Batch100_Epochs5_Momentum0.9_NesterovFalse_Sample1000\n",
      "EPOCH 0 --- LOSS 0.07771512151135039\n",
      "EPOCH 1 --- LOSS 0.07771458415891536\n",
      "EPOCH 2 --- LOSS 0.07771393143058021\n",
      "EPOCH 3 --- LOSS 0.07771327821130408\n",
      "EPOCH 4 --- LOSS 0.07771262509316126\n",
      "EPOCH 4 --- FINAL LOSS 0.07771197208256139\n",
      "PSNR: 12.31220236852349\n",
      "\n",
      "STARTING TRAINING FOR: lr3.162277660168379e-06_HiddenChannels(16, 16)_Batch5_Epochs5_Momentum0.9_NesterovFalse_Sample1000\n",
      "EPOCH 0 --- LOSS 0.07733851467404902\n",
      "EPOCH 1 --- LOSS 0.07731704553836365\n",
      "EPOCH 2 --- LOSS 0.07729545854673452\n",
      "EPOCH 3 --- LOSS 0.07727396039959077\n",
      "EPOCH 4 --- LOSS 0.07725255244658029\n",
      "EPOCH 4 --- FINAL LOSS 0.07723123681188937\n",
      "PSNR: 12.356127935833591\n",
      "\n",
      "STARTING TRAINING FOR: lr3.162277660168379e-06_HiddenChannels(16, 16)_Batch100_Epochs5_Momentum0.9_NesterovFalse_Sample1000\n",
      "EPOCH 0 --- LOSS 0.07982568942863175\n",
      "EPOCH 1 --- LOSS 0.07982405148733737\n",
      "EPOCH 2 --- LOSS 0.07982206096813248\n",
      "EPOCH 3 --- LOSS 0.0798200691254127\n",
      "EPOCH 4 --- LOSS 0.07981807777209819\n",
      "EPOCH 4 --- FINAL LOSS 0.07981608689752959\n",
      "PSNR: 12.17120528717124\n",
      "\n",
      "STARTING TRAINING FOR: lr3.162277660168379e-06_HiddenChannels(16, 32)_Batch5_Epochs5_Momentum0.9_NesterovFalse_Sample1000\n",
      "EPOCH 0 --- LOSS 0.07768480286335744\n",
      "EPOCH 1 --- LOSS 0.0776652881644785\n",
      "EPOCH 2 --- LOSS 0.0776456485178125\n"
     ]
    },
    {
     "ename": "KeyboardInterrupt",
     "evalue": "",
     "output_type": "error",
     "traceback": [
      "\u001b[1;31m---------------------------------------------------------------------------\u001b[0m",
      "\u001b[1;31mKeyboardInterrupt\u001b[0m                         Traceback (most recent call last)",
      "\u001b[1;32m~\\AppData\\Local\\Temp/ipykernel_61728/4097587913.py\u001b[0m in \u001b[0;36m<module>\u001b[1;34m\u001b[0m\n\u001b[0;32m      9\u001b[0m                     \u001b[0mdescription\u001b[0m \u001b[1;33m=\u001b[0m \u001b[1;34mf'lr{lr}_HiddenChannels{hidden_channel}_Batch{batch_size}_Epochs{epochs}_Momentum{momentum}_Nesterov{nesterov}_Sample1000'\u001b[0m\u001b[1;33m\u001b[0m\u001b[1;33m\u001b[0m\u001b[0m\n\u001b[0;32m     10\u001b[0m                     \u001b[0mprint\u001b[0m\u001b[1;33m(\u001b[0m\u001b[1;34m\"\\nSTARTING TRAINING FOR:\"\u001b[0m\u001b[1;33m,\u001b[0m \u001b[0mdescription\u001b[0m\u001b[1;33m)\u001b[0m\u001b[1;33m\u001b[0m\u001b[1;33m\u001b[0m\u001b[0m\n\u001b[1;32m---> 11\u001b[1;33m                     \u001b[0merror\u001b[0m\u001b[1;33m,\u001b[0m \u001b[0mm\u001b[0m \u001b[1;33m=\u001b[0m \u001b[0mtest_and_train\u001b[0m\u001b[1;33m(\u001b[0m\u001b[0mbatch_size\u001b[0m\u001b[1;33m,\u001b[0m \u001b[0mhidden_channel\u001b[0m\u001b[1;33m,\u001b[0m \u001b[0mlr\u001b[0m\u001b[1;33m,\u001b[0m \u001b[0mmomentum\u001b[0m\u001b[1;33m,\u001b[0m \u001b[0mnesterov\u001b[0m\u001b[1;33m,\u001b[0m \u001b[0mepochs\u001b[0m\u001b[1;33m)\u001b[0m\u001b[1;33m\u001b[0m\u001b[1;33m\u001b[0m\u001b[0m\n\u001b[0m\u001b[0;32m     12\u001b[0m                     \u001b[0mdescription\u001b[0m \u001b[1;33m=\u001b[0m \u001b[1;34mf'lr{lr}_HiddenChannels{hidden_channel}_Batch{batch_size}_Epochs{epochs}_Momentum{momentum}_Nesterov{nesterov}_Sample1000_{error}'\u001b[0m\u001b[1;33m\u001b[0m\u001b[1;33m\u001b[0m\u001b[0m\n\u001b[0;32m     13\u001b[0m                     \u001b[0mresults\u001b[0m\u001b[1;33m[\u001b[0m\u001b[0mdescription\u001b[0m\u001b[1;33m]\u001b[0m \u001b[1;33m=\u001b[0m \u001b[0mm\u001b[0m\u001b[1;33m\u001b[0m\u001b[1;33m\u001b[0m\u001b[0m\n",
      "\u001b[1;32m~\\AppData\\Local\\Temp/ipykernel_61728/1689438494.py\u001b[0m in \u001b[0;36mtest_and_train\u001b[1;34m(batch_size, hidden_channels, lr, momentum, nesterov, epochs)\u001b[0m\n\u001b[0;32m     24\u001b[0m \u001b[1;33m\u001b[0m\u001b[0m\n\u001b[0;32m     25\u001b[0m     \u001b[1;31m# Train\u001b[0m\u001b[1;33m\u001b[0m\u001b[1;33m\u001b[0m\u001b[1;33m\u001b[0m\u001b[0m\n\u001b[1;32m---> 26\u001b[1;33m     \u001b[0mm\u001b[0m\u001b[1;33m.\u001b[0m\u001b[0mtrain\u001b[0m\u001b[1;33m(\u001b[0m\u001b[0ms1\u001b[0m\u001b[1;33m,\u001b[0m \u001b[0ms2\u001b[0m\u001b[1;33m,\u001b[0m \u001b[0mepochs\u001b[0m\u001b[1;33m)\u001b[0m\u001b[1;33m\u001b[0m\u001b[1;33m\u001b[0m\u001b[0m\n\u001b[0m\u001b[0;32m     27\u001b[0m \u001b[1;33m\u001b[0m\u001b[0m\n\u001b[0;32m     28\u001b[0m     \u001b[1;32mreturn\u001b[0m \u001b[0mcompute_psnr\u001b[0m\u001b[1;33m(\u001b[0m\u001b[0mm\u001b[0m\u001b[1;33m.\u001b[0m\u001b[0mpredict\u001b[0m\u001b[1;33m(\u001b[0m\u001b[0mt1\u001b[0m\u001b[1;33m)\u001b[0m\u001b[1;33m,\u001b[0m \u001b[0mt2\u001b[0m\u001b[1;33m)\u001b[0m\u001b[1;33m,\u001b[0m \u001b[0mm\u001b[0m\u001b[1;33m\u001b[0m\u001b[1;33m\u001b[0m\u001b[0m\n",
      "\u001b[1;32mc:\\Users\\stefa\\deep-learning-project\\Miniproject_2\\model.py\u001b[0m in \u001b[0;36mtrain\u001b[1;34m(self, train_input, train_target, num_epochs)\u001b[0m\n\u001b[0;32m     37\u001b[0m         \u001b[1;32mfor\u001b[0m \u001b[0me\u001b[0m \u001b[1;32min\u001b[0m \u001b[0mrange\u001b[0m\u001b[1;33m(\u001b[0m\u001b[0mnum_epochs\u001b[0m\u001b[1;33m)\u001b[0m\u001b[1;33m:\u001b[0m\u001b[1;33m\u001b[0m\u001b[1;33m\u001b[0m\u001b[0m\n\u001b[0;32m     38\u001b[0m             \u001b[0minp\u001b[0m\u001b[1;33m,\u001b[0m \u001b[0mtarget\u001b[0m \u001b[1;33m=\u001b[0m \u001b[0mtrain_input\u001b[0m\u001b[1;33m,\u001b[0m \u001b[0mtrain_target\u001b[0m\u001b[1;33m\u001b[0m\u001b[1;33m\u001b[0m\u001b[0m\n\u001b[1;32m---> 39\u001b[1;33m             \u001b[0moutput\u001b[0m \u001b[1;33m=\u001b[0m \u001b[0mself\u001b[0m\u001b[1;33m.\u001b[0m\u001b[0mmodel\u001b[0m\u001b[1;33m.\u001b[0m\u001b[0mforward\u001b[0m\u001b[1;33m(\u001b[0m\u001b[0minp\u001b[0m\u001b[1;33m)\u001b[0m\u001b[1;33m\u001b[0m\u001b[1;33m\u001b[0m\u001b[0m\n\u001b[0m\u001b[0;32m     40\u001b[0m             \u001b[0mloss\u001b[0m \u001b[1;33m=\u001b[0m \u001b[0mself\u001b[0m\u001b[1;33m.\u001b[0m\u001b[0mloss\u001b[0m\u001b[1;33m.\u001b[0m\u001b[0mforward\u001b[0m\u001b[1;33m(\u001b[0m\u001b[0mpreds\u001b[0m\u001b[1;33m=\u001b[0m\u001b[0moutput\u001b[0m\u001b[1;33m,\u001b[0m \u001b[0mlabels\u001b[0m\u001b[1;33m=\u001b[0m\u001b[0mtarget\u001b[0m\u001b[1;33m)\u001b[0m\u001b[1;33m\u001b[0m\u001b[1;33m\u001b[0m\u001b[0m\n\u001b[0;32m     41\u001b[0m             \u001b[0mprint\u001b[0m\u001b[1;33m(\u001b[0m\u001b[1;34m\"EPOCH {} --- LOSS {}\"\u001b[0m\u001b[1;33m.\u001b[0m\u001b[0mformat\u001b[0m\u001b[1;33m(\u001b[0m\u001b[0me\u001b[0m\u001b[1;33m,\u001b[0m \u001b[0mloss\u001b[0m\u001b[1;33m)\u001b[0m\u001b[1;33m)\u001b[0m\u001b[1;33m\u001b[0m\u001b[1;33m\u001b[0m\u001b[0m\n",
      "\u001b[1;32mc:\\Users\\stefa\\deep-learning-project\\Miniproject_2\\others\\implementations.py\u001b[0m in \u001b[0;36mforward\u001b[1;34m(self, x_)\u001b[0m\n\u001b[0;32m    244\u001b[0m         \u001b[0mx\u001b[0m \u001b[1;33m=\u001b[0m \u001b[0mx_\u001b[0m\u001b[1;33m\u001b[0m\u001b[1;33m\u001b[0m\u001b[0m\n\u001b[0;32m    245\u001b[0m         \u001b[1;32mfor\u001b[0m \u001b[0mmodule\u001b[0m \u001b[1;32min\u001b[0m \u001b[0mself\u001b[0m\u001b[1;33m.\u001b[0m\u001b[0mmodules\u001b[0m\u001b[1;33m:\u001b[0m\u001b[1;33m\u001b[0m\u001b[1;33m\u001b[0m\u001b[0m\n\u001b[1;32m--> 246\u001b[1;33m             \u001b[0mx\u001b[0m \u001b[1;33m=\u001b[0m \u001b[0mmodule\u001b[0m\u001b[1;33m.\u001b[0m\u001b[0mforward\u001b[0m\u001b[1;33m(\u001b[0m\u001b[0mx\u001b[0m\u001b[1;33m)\u001b[0m\u001b[1;33m\u001b[0m\u001b[1;33m\u001b[0m\u001b[0m\n\u001b[0m\u001b[0;32m    247\u001b[0m         \u001b[1;32mreturn\u001b[0m \u001b[0mx\u001b[0m\u001b[1;33m\u001b[0m\u001b[1;33m\u001b[0m\u001b[0m\n\u001b[0;32m    248\u001b[0m \u001b[1;33m\u001b[0m\u001b[0m\n",
      "\u001b[1;32mc:\\Users\\stefa\\deep-learning-project\\Miniproject_2\\others\\implementations.py\u001b[0m in \u001b[0;36mforward\u001b[1;34m(self, x)\u001b[0m\n\u001b[0;32m    202\u001b[0m \u001b[1;33m\u001b[0m\u001b[0m\n\u001b[0;32m    203\u001b[0m     \u001b[1;32mdef\u001b[0m \u001b[0mforward\u001b[0m\u001b[1;33m(\u001b[0m\u001b[0mself\u001b[0m\u001b[1;33m,\u001b[0m \u001b[0mx\u001b[0m\u001b[1;33m)\u001b[0m\u001b[1;33m:\u001b[0m\u001b[1;33m\u001b[0m\u001b[1;33m\u001b[0m\u001b[0m\n\u001b[1;32m--> 204\u001b[1;33m         \u001b[0mself\u001b[0m\u001b[1;33m.\u001b[0m\u001b[0mx\u001b[0m \u001b[1;33m=\u001b[0m \u001b[0mx\u001b[0m\u001b[1;33m.\u001b[0m\u001b[0mclone\u001b[0m\u001b[1;33m(\u001b[0m\u001b[1;33m)\u001b[0m\u001b[1;33m\u001b[0m\u001b[1;33m\u001b[0m\u001b[0m\n\u001b[0m\u001b[0;32m    205\u001b[0m         \u001b[0mtemp\u001b[0m \u001b[1;33m=\u001b[0m \u001b[1;33m(\u001b[0m\u001b[1;36m1\u001b[0m \u001b[1;33m+\u001b[0m \u001b[1;33m(\u001b[0m\u001b[1;33m-\u001b[0m\u001b[0mself\u001b[0m\u001b[1;33m.\u001b[0m\u001b[0mx\u001b[0m\u001b[1;33m)\u001b[0m\u001b[1;33m.\u001b[0m\u001b[0mexp\u001b[0m\u001b[1;33m(\u001b[0m\u001b[1;33m)\u001b[0m\u001b[1;33m)\u001b[0m\u001b[1;33m.\u001b[0m\u001b[0mpow\u001b[0m\u001b[1;33m(\u001b[0m\u001b[1;33m-\u001b[0m\u001b[1;36m1\u001b[0m\u001b[1;33m)\u001b[0m\u001b[1;33m\u001b[0m\u001b[1;33m\u001b[0m\u001b[0m\n\u001b[0;32m    206\u001b[0m         \u001b[1;32mreturn\u001b[0m \u001b[0mtemp\u001b[0m\u001b[1;33m\u001b[0m\u001b[1;33m\u001b[0m\u001b[0m\n",
      "\u001b[1;31mKeyboardInterrupt\u001b[0m: "
     ]
    }
   ],
   "source": [
    "epochs = 5\n",
    "\n",
    "results = dict()\n",
    "for lr in lrs:\n",
    "    for momentum in momentums:\n",
    "        for nesterov in nesterovs:\n",
    "            for hidden_channel in hidden_channels:\n",
    "                for batch_size in batch_sizes:\n",
    "                    description = f'lr{lr}_HiddenChannels{hidden_channel}_Batch{batch_size}_Epochs{epochs}_Momentum{momentum}_Nesterov{nesterov}_Sample1000'\n",
    "                    print(\"\\nSTARTING TRAINING FOR:\", description)\n",
    "                    error, m = test_and_train(batch_size, hidden_channel, lr, momentum, nesterov, epochs)\n",
    "                    description = f'lr{lr}_HiddenChannels{hidden_channel}_Batch{batch_size}_Epochs{epochs}_Momentum{momentum}_Nesterov{nesterov}_Sample1000_{error}'\n",
    "                    results[description] = m\n",
    "                    print(f'PSNR: {error}')"
   ]
  },
  {
   "cell_type": "markdown",
   "metadata": {
    "collapsed": false,
    "pycharm": {
     "name": "#%% md\n"
    }
   },
   "source": [
    "## Final results"
   ]
  }
 ],
 "metadata": {
  "interpreter": {
   "hash": "4f523f7c76dd18e7ed336217f32f6f704c23c323644912475b9d3570cf04b060"
  },
  "kernelspec": {
   "display_name": "Python 3.8.12 ('base')",
   "language": "python",
   "name": "python3"
  },
  "language_info": {
   "codemirror_mode": {
    "name": "ipython",
    "version": 3
   },
   "file_extension": ".py",
   "mimetype": "text/x-python",
   "name": "python",
   "nbconvert_exporter": "python",
   "pygments_lexer": "ipython3",
   "version": "3.8.12"
  }
 },
 "nbformat": 4,
 "nbformat_minor": 0
}
