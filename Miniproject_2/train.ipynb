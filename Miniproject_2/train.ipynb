{
 "cells": [
  {
   "cell_type": "markdown",
   "source": [
    "## Helper functions"
   ],
   "metadata": {
    "collapsed": false
   }
  },
  {
   "cell_type": "code",
   "execution_count": 7,
   "outputs": [],
   "source": [
    "import numpy as np\n",
    "\n",
    "from others.implementations import *\n",
    "import torch\n",
    "from model import *"
   ],
   "metadata": {
    "collapsed": false,
    "pycharm": {
     "name": "#%%\n"
    }
   }
  },
  {
   "cell_type": "code",
   "execution_count": 8,
   "outputs": [],
   "source": [
    "def generate_model(shallow_hidden_channels, deep_hidden_channels):\n",
    "    return Sequential(\n",
    "        Conv2d(3, shallow_hidden_channels, kernel_size=2, stride=2, padding=0),\n",
    "        ReLU(),\n",
    "        Conv2d(shallow_hidden_channels, deep_hidden_channels, kernel_size=2, stride=2, padding=0),\n",
    "        ReLU(),\n",
    "        NearestUpsampling(scale_factor=2),\n",
    "        Conv2d(deep_hidden_channels, shallow_hidden_channels, kernel_size=3, stride=1, padding=1),\n",
    "        ReLU(),\n",
    "        NearestUpsampling(scale_factor=2),\n",
    "        Conv2d(shallow_hidden_channels, 1, kernel_size=3, stride=1, padding=1),\n",
    "        Sigmoid()\n",
    "        )\n",
    "\n",
    "def test_and_train(batch_size, hidden_channels, lr, momentum, nesterov, epochs):\n",
    "    network = generate_model(shallow_hidden_channels=hidden_channels[0], deep_hidden_channels=hidden_channels[1])\n",
    "    optimizer = SGD(network.param(), lr=lr, momentum=momentum, nesterov=nesterov)\n",
    "\n",
    "    # Instantiate model and replace network and optimizer\n",
    "    m = Model()\n",
    "    m.model = network\n",
    "    m.optimizer = optimizer\n",
    "    m.batch_size = batch_size\n",
    "\n",
    "    # Train\n",
    "    m.train(s1, s2, epochs)\n",
    "\n",
    "    return compute_psnr(m.predict(t1), t2), m\n",
    "\n",
    "def sample(tensor1, tensor2, k):\n",
    "    perm = torch.randperm(tensor1.size(0))\n",
    "    idx = perm[:k]\n",
    "    return tensor1[idx], tensor2[idx]"
   ],
   "metadata": {
    "collapsed": false,
    "pycharm": {
     "name": "#%%\n"
    }
   }
  },
  {
   "cell_type": "markdown",
   "source": [
    "## Loading data"
   ],
   "metadata": {
    "collapsed": false,
    "pycharm": {
     "name": "#%% md\n"
    }
   }
  },
  {
   "cell_type": "code",
   "execution_count": 10,
   "outputs": [],
   "source": [
    "path_train = '../data/train_data.pkl'\n",
    "path_val = '../data/val_data.pkl'\n",
    "noisy_imgs_1, noisy_imgs_2 = torch.load(path_train)\n",
    "noisy_imgs_1, noisy_imgs_2 = noisy_imgs_1.float(), noisy_imgs_2.float()\n",
    "test, truth = torch.load(path_val)\n",
    "test, truth = test.float(), truth.float()"
   ],
   "metadata": {
    "collapsed": false,
    "pycharm": {
     "name": "#%%\n"
    }
   }
  },
  {
   "cell_type": "markdown",
   "source": [
    "## Parameters to tune"
   ],
   "metadata": {
    "collapsed": false,
    "pycharm": {
     "name": "#%% md\n"
    }
   }
  },
  {
   "cell_type": "code",
   "execution_count": 11,
   "outputs": [],
   "source": [
    "# Channels parameter\n",
    "shallow_hidden_channels = [8, 16, 32, 64, 128]\n",
    "deep_hidden_channels = [8, 16, 32, 64, 128, 256]\n",
    "hidden_channels = [(shallow_channel, deep_channel) for shallow_channel in shallow_hidden_channels for deep_channel in deep_hidden_channels if shallow_channel <= deep_channel]\n",
    "\n",
    "# Optimizer parameters\n",
    "lrs = np.logspace(-7, -1, 7)\n",
    "momentums = [0.9]\n",
    "nesterovs = [True, False]\n",
    "\n",
    "# Batch sizes\n",
    "batch_sizes = [5, 10, 20]"
   ],
   "metadata": {
    "collapsed": false,
    "pycharm": {
     "name": "#%%\n"
    }
   }
  },
  {
   "cell_type": "markdown",
   "source": [
    "## Training"
   ],
   "metadata": {
    "collapsed": false,
    "pycharm": {
     "name": "#%% md\n"
    }
   }
  },
  {
   "cell_type": "code",
   "execution_count": 12,
   "outputs": [],
   "source": [
    "s1, s2 = sample(noisy_imgs_1, noisy_imgs_2, 1000)\n",
    "t1, t2 = sample(test, truth, 1000)"
   ],
   "metadata": {
    "collapsed": false,
    "pycharm": {
     "name": "#%%\n"
    }
   }
  },
  {
   "cell_type": "code",
   "execution_count": 15,
   "outputs": [
    {
     "name": "stdout",
     "output_type": "stream",
     "text": [
      "\n",
      "STARTING TRAINING FOR: lr1e-07_HiddenChannels(8, 8)_Batch5_Epochs5_Momentum0.9_NesterovTrue_Sample1000\n"
     ]
    },
    {
     "ename": "RuntimeError",
     "evalue": "output with shape [1, 8, 3, 3] doesn't match the broadcast shape [3, 8, 3, 3]",
     "output_type": "error",
     "traceback": [
      "\u001B[1;31m---------------------------------------------------------------------------\u001B[0m",
      "\u001B[1;31mRuntimeError\u001B[0m                              Traceback (most recent call last)",
      "Input \u001B[1;32mIn [15]\u001B[0m, in \u001B[0;36m<cell line: 4>\u001B[1;34m()\u001B[0m\n\u001B[0;32m      9\u001B[0m description \u001B[38;5;241m=\u001B[39m \u001B[38;5;124mf\u001B[39m\u001B[38;5;124m'\u001B[39m\u001B[38;5;124mlr\u001B[39m\u001B[38;5;132;01m{\u001B[39;00mlr\u001B[38;5;132;01m}\u001B[39;00m\u001B[38;5;124m_HiddenChannels\u001B[39m\u001B[38;5;132;01m{\u001B[39;00mhidden_channel\u001B[38;5;132;01m}\u001B[39;00m\u001B[38;5;124m_Batch\u001B[39m\u001B[38;5;132;01m{\u001B[39;00mbatch_size\u001B[38;5;132;01m}\u001B[39;00m\u001B[38;5;124m_Epochs\u001B[39m\u001B[38;5;132;01m{\u001B[39;00mepochs\u001B[38;5;132;01m}\u001B[39;00m\u001B[38;5;124m_Momentum\u001B[39m\u001B[38;5;132;01m{\u001B[39;00mmomentum\u001B[38;5;132;01m}\u001B[39;00m\u001B[38;5;124m_Nesterov\u001B[39m\u001B[38;5;132;01m{\u001B[39;00mnesterov\u001B[38;5;132;01m}\u001B[39;00m\u001B[38;5;124m_Sample1000\u001B[39m\u001B[38;5;124m'\u001B[39m\n\u001B[0;32m     10\u001B[0m \u001B[38;5;28mprint\u001B[39m(\u001B[38;5;124m\"\u001B[39m\u001B[38;5;130;01m\\n\u001B[39;00m\u001B[38;5;124mSTARTING TRAINING FOR:\u001B[39m\u001B[38;5;124m\"\u001B[39m, description)\n\u001B[1;32m---> 11\u001B[0m error, m \u001B[38;5;241m=\u001B[39m \u001B[43mtest_and_train\u001B[49m\u001B[43m(\u001B[49m\u001B[43mbatch_size\u001B[49m\u001B[43m,\u001B[49m\u001B[43m \u001B[49m\u001B[43mhidden_channel\u001B[49m\u001B[43m,\u001B[49m\u001B[43m \u001B[49m\u001B[43mlr\u001B[49m\u001B[43m,\u001B[49m\u001B[43m \u001B[49m\u001B[43mmomentum\u001B[49m\u001B[43m,\u001B[49m\u001B[43m \u001B[49m\u001B[43mnesterov\u001B[49m\u001B[43m,\u001B[49m\u001B[43m \u001B[49m\u001B[43mepochs\u001B[49m\u001B[43m)\u001B[49m\n\u001B[0;32m     12\u001B[0m description \u001B[38;5;241m=\u001B[39m \u001B[38;5;124mf\u001B[39m\u001B[38;5;124m'\u001B[39m\u001B[38;5;124mlr\u001B[39m\u001B[38;5;132;01m{\u001B[39;00mlr\u001B[38;5;132;01m}\u001B[39;00m\u001B[38;5;124m_HiddenChannels\u001B[39m\u001B[38;5;132;01m{\u001B[39;00mhidden_channel\u001B[38;5;132;01m}\u001B[39;00m\u001B[38;5;124m_Batch\u001B[39m\u001B[38;5;132;01m{\u001B[39;00mbatch_size\u001B[38;5;132;01m}\u001B[39;00m\u001B[38;5;124m_Epochs\u001B[39m\u001B[38;5;132;01m{\u001B[39;00mepochs\u001B[38;5;132;01m}\u001B[39;00m\u001B[38;5;124m_Momentum\u001B[39m\u001B[38;5;132;01m{\u001B[39;00mmomentum\u001B[38;5;132;01m}\u001B[39;00m\u001B[38;5;124m_Nesterov\u001B[39m\u001B[38;5;132;01m{\u001B[39;00mnesterov\u001B[38;5;132;01m}\u001B[39;00m\u001B[38;5;124m_Sample1000_\u001B[39m\u001B[38;5;132;01m{\u001B[39;00merror\u001B[38;5;132;01m}\u001B[39;00m\u001B[38;5;124m'\u001B[39m\n\u001B[0;32m     13\u001B[0m results[description] \u001B[38;5;241m=\u001B[39m m\n",
      "Input \u001B[1;32mIn [8]\u001B[0m, in \u001B[0;36mtest_and_train\u001B[1;34m(batch_size, hidden_channels, lr, momentum, nesterov, epochs)\u001B[0m\n\u001B[0;32m     23\u001B[0m m\u001B[38;5;241m.\u001B[39mbatch_size \u001B[38;5;241m=\u001B[39m batch_size\n\u001B[0;32m     25\u001B[0m \u001B[38;5;66;03m# Train\u001B[39;00m\n\u001B[1;32m---> 26\u001B[0m \u001B[43mm\u001B[49m\u001B[38;5;241;43m.\u001B[39;49m\u001B[43mtrain\u001B[49m\u001B[43m(\u001B[49m\u001B[43ms1\u001B[49m\u001B[43m,\u001B[49m\u001B[43m \u001B[49m\u001B[43ms2\u001B[49m\u001B[43m,\u001B[49m\u001B[43m \u001B[49m\u001B[43mepochs\u001B[49m\u001B[43m)\u001B[49m\n\u001B[0;32m     28\u001B[0m \u001B[38;5;28;01mreturn\u001B[39;00m compute_psnr(m\u001B[38;5;241m.\u001B[39mpredict(t1), t2), m\n",
      "File \u001B[1;32mG:\\Giovanni\\Università\\EPFL\\MA2\\DL\\Projects\\deep-learning-project\\Miniproject_2\\model.py:40\u001B[0m, in \u001B[0;36mModel.train\u001B[1;34m(self, train_input, train_target, num_epochs)\u001B[0m\n\u001B[0;32m     38\u001B[0m     loss \u001B[38;5;241m=\u001B[39m \u001B[38;5;28mself\u001B[39m\u001B[38;5;241m.\u001B[39mloss\u001B[38;5;241m.\u001B[39mforward(preds\u001B[38;5;241m=\u001B[39moutput, labels\u001B[38;5;241m=\u001B[39mtarget)\n\u001B[0;32m     39\u001B[0m     \u001B[38;5;28mself\u001B[39m\u001B[38;5;241m.\u001B[39moptimizer\u001B[38;5;241m.\u001B[39mzero_grad()\n\u001B[1;32m---> 40\u001B[0m     \u001B[38;5;28;43mself\u001B[39;49m\u001B[38;5;241;43m.\u001B[39;49m\u001B[43mmodel\u001B[49m\u001B[38;5;241;43m.\u001B[39;49m\u001B[43mbackward\u001B[49m\u001B[43m(\u001B[49m\u001B[38;5;28;43mself\u001B[39;49m\u001B[38;5;241;43m.\u001B[39;49m\u001B[43mloss\u001B[49m\u001B[38;5;241;43m.\u001B[39;49m\u001B[43mbackward\u001B[49m\u001B[43m(\u001B[49m\u001B[43m)\u001B[49m\u001B[43m)\u001B[49m\n\u001B[0;32m     41\u001B[0m     \u001B[38;5;28mself\u001B[39m\u001B[38;5;241m.\u001B[39moptimizer\u001B[38;5;241m.\u001B[39mstep()\n\u001B[0;32m     42\u001B[0m \u001B[38;5;28mprint\u001B[39m(\u001B[38;5;124m\"\u001B[39m\u001B[38;5;124mEPOCH \u001B[39m\u001B[38;5;132;01m{}\u001B[39;00m\u001B[38;5;124m --- LOSS \u001B[39m\u001B[38;5;132;01m{}\u001B[39;00m\u001B[38;5;124m\"\u001B[39m\u001B[38;5;241m.\u001B[39mformat(e, loss))\n",
      "File \u001B[1;32mG:\\Giovanni\\Università\\EPFL\\MA2\\DL\\Projects\\deep-learning-project\\Miniproject_2\\others\\implementations.py:254\u001B[0m, in \u001B[0;36mSequential.backward\u001B[1;34m(self, gradwrtoutput)\u001B[0m\n\u001B[0;32m    252\u001B[0m x \u001B[38;5;241m=\u001B[39m gradwrtoutput\n\u001B[0;32m    253\u001B[0m \u001B[38;5;28;01mfor\u001B[39;00m module \u001B[38;5;129;01min\u001B[39;00m \u001B[38;5;28mreversed\u001B[39m(\u001B[38;5;28mself\u001B[39m\u001B[38;5;241m.\u001B[39mmodules):\n\u001B[1;32m--> 254\u001B[0m     x \u001B[38;5;241m=\u001B[39m \u001B[43mmodule\u001B[49m\u001B[38;5;241;43m.\u001B[39;49m\u001B[43mbackward\u001B[49m\u001B[43m(\u001B[49m\u001B[43mx\u001B[49m\u001B[43m)\u001B[49m\n\u001B[0;32m    255\u001B[0m \u001B[38;5;28;01mreturn\u001B[39;00m x\n",
      "File \u001B[1;32mG:\\Giovanni\\Università\\EPFL\\MA2\\DL\\Projects\\deep-learning-project\\Miniproject_2\\others\\implementations.py:160\u001B[0m, in \u001B[0;36mConv2d.backward\u001B[1;34m(self, dl_dout)\u001B[0m\n\u001B[0;32m    157\u001B[0m     x \u001B[38;5;241m=\u001B[39m \u001B[38;5;28mself\u001B[39m\u001B[38;5;241m.\u001B[39mx\n\u001B[0;32m    159\u001B[0m \u001B[38;5;66;03m# compute gradient with respect to weights (kernel)\u001B[39;00m\n\u001B[1;32m--> 160\u001B[0m \u001B[38;5;28mself\u001B[39m\u001B[38;5;241m.\u001B[39mdl_dw \u001B[38;5;241m+\u001B[39m\u001B[38;5;241m=\u001B[39m (\u001B[38;5;28mself\u001B[39m\u001B[38;5;241m.\u001B[39mapply_conv(x\u001B[38;5;241m.\u001B[39mtranspose(\u001B[38;5;241m0\u001B[39m, \u001B[38;5;241m1\u001B[39m), \u001B[38;5;28mself\u001B[39m\u001B[38;5;241m.\u001B[39mdelation(dl_dout)\u001B[38;5;241m.\u001B[39mtranspose(\u001B[38;5;241m0\u001B[39m, \u001B[38;5;241m1\u001B[39m)))\u001B[38;5;241m.\u001B[39mtranspose(\u001B[38;5;241m0\u001B[39m, \u001B[38;5;241m1\u001B[39m)\n\u001B[0;32m    162\u001B[0m \u001B[38;5;66;03m# compute gradient with respect to bias\u001B[39;00m\n\u001B[0;32m    163\u001B[0m \u001B[38;5;28;01mif\u001B[39;00m \u001B[38;5;28mself\u001B[39m\u001B[38;5;241m.\u001B[39mbias \u001B[38;5;129;01mis\u001B[39;00m \u001B[38;5;129;01mnot\u001B[39;00m \u001B[38;5;28;01mNone\u001B[39;00m:\n",
      "\u001B[1;31mRuntimeError\u001B[0m: output with shape [1, 8, 3, 3] doesn't match the broadcast shape [3, 8, 3, 3]"
     ]
    }
   ],
   "source": [
    "epochs = 5\n",
    "\n",
    "results = dict()\n",
    "for lr in lrs:\n",
    "    for momentum in momentums:\n",
    "        for nesterov in nesterovs:\n",
    "            for hidden_channel in hidden_channels:\n",
    "                for batch_size in batch_sizes:\n",
    "                    description = f'lr{lr}_HiddenChannels{hidden_channel}_Batch{batch_size}_Epochs{epochs}_Momentum{momentum}_Nesterov{nesterov}_Sample1000'\n",
    "                    print(\"\\nSTARTING TRAINING FOR:\", description)\n",
    "                    error, m = test_and_train(batch_size, hidden_channel, lr, momentum, nesterov, epochs)\n",
    "                    description = f'lr{lr}_HiddenChannels{hidden_channel}_Batch{batch_size}_Epochs{epochs}_Momentum{momentum}_Nesterov{nesterov}_Sample1000_{error}'\n",
    "                    results[description] = m"
   ],
   "metadata": {
    "collapsed": false,
    "pycharm": {
     "name": "#%%\n"
    }
   }
  },
  {
   "cell_type": "markdown",
   "source": [
    "## Final results"
   ],
   "metadata": {
    "collapsed": false,
    "pycharm": {
     "name": "#%% md\n"
    }
   }
  },
  {
   "cell_type": "code",
   "execution_count": null,
   "outputs": [],
   "source": [
    "results"
   ],
   "metadata": {
    "collapsed": false,
    "pycharm": {
     "name": "#%%\n"
    }
   }
  }
 ],
 "metadata": {
  "kernelspec": {
   "display_name": "Python 3",
   "language": "python",
   "name": "python3"
  },
  "language_info": {
   "codemirror_mode": {
    "name": "ipython",
    "version": 2
   },
   "file_extension": ".py",
   "mimetype": "text/x-python",
   "name": "python",
   "nbconvert_exporter": "python",
   "pygments_lexer": "ipython2",
   "version": "2.7.6"
  }
 },
 "nbformat": 4,
 "nbformat_minor": 0
}