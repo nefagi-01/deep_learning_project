{
 "cells": [
  {
   "cell_type": "code",
   "execution_count": 1,
   "metadata": {},
   "outputs": [],
   "source": [
    "%load_ext autoreload\n",
    "%autoreload 2\n",
    "\n",
    "import torch\n",
    "from torch.nn.functional import unfold, fold\n",
    "from others.implementations import Convolution\n",
    "from torch.nn.functional import conv2d"
   ]
  },
  {
   "cell_type": "markdown",
   "metadata": {},
   "source": [
    "# Convolution"
   ]
  },
  {
   "cell_type": "code",
   "execution_count": 95,
   "metadata": {},
   "outputs": [
    {
     "name": "stderr",
     "output_type": "stream",
     "text": [
      "c:\\Users\\stefa\\deep-learning-project\\Miniproject_2\\others\\implementations.py:39: UserWarning: __floordiv__ is deprecated, and its behavior will change in a future version of pytorch. It currently rounds toward 0 (like the 'trunc' function NOT 'floor'). This results in incorrect rounding for negative values. To keep the current behavior, use torch.div(a, b, rounding_mode='trunc'), or for actual floor division, use torch.div(a, b, rounding_mode='floor').\n",
      "  return ((prev_dim - kernel_dim)//stride)+1\n"
     ]
    }
   ],
   "source": [
    "padding = 0\n",
    "stride = 3\n",
    "custom_conv = Convolution(3,1,kernel_size=2, padding=padding, stride = stride)\n",
    "\n",
    "inp = torch.ones((5,3,5,5))\n",
    "inp.requires_grad = True\n",
    "out = custom_conv.forward(inp)\n",
    "target = torch.zeros(out.size())\n",
    "\n",
    "kernel = torch.ones((1,3,2,2))\n",
    "kernel.requires_grad = True\n",
    "kernel.retain_grad()\n",
    "inp_padded = custom_conv.add_padding(inp, padding)\n",
    "inp_padded = inp_padded.detach()\n",
    "inp_padded.requires_grad = True\n",
    "target_out = conv2d(inp_padded, kernel, stride=stride)\n",
    "target_out.retain_grad()\n",
    "loss = 0.5*((target-target_out)**2).sum()\n",
    "loss.backward()\n",
    "dl_dout = target_out.grad.detach()\n",
    "dl_dw = kernel.grad.detach()\n",
    "dl_dx = inp_padded.grad.detach()"
   ]
  },
  {
   "cell_type": "code",
   "execution_count": 96,
   "metadata": {},
   "outputs": [
    {
     "data": {
      "text/plain": [
       "tensor(0., grad_fn=<SumBackward0>)"
      ]
     },
     "execution_count": 96,
     "metadata": {},
     "output_type": "execute_result"
    }
   ],
   "source": [
    "#check out\n",
    "(target_out - out).abs().sum()"
   ]
  },
  {
   "cell_type": "code",
   "execution_count": 99,
   "metadata": {},
   "outputs": [
    {
     "name": "stdout",
     "output_type": "stream",
     "text": [
      "torch.Size([5, 1, 2, 2])\n",
      "torch.Size([5, 1, 6, 6])\n",
      "torch.Size([3, 1, 2, 2])\n",
      "torch.Size([5, 3, 5, 5])\n"
     ]
    },
    {
     "data": {
      "text/plain": [
       "tensor(0.)"
      ]
     },
     "execution_count": 99,
     "metadata": {},
     "output_type": "execute_result"
    }
   ],
   "source": [
    "#check dl_dx\n",
    "(custom_conv.backward(dl_dout) - dl_dx).abs().sum()"
   ]
  },
  {
   "cell_type": "code",
   "execution_count": 100,
   "metadata": {},
   "outputs": [
    {
     "data": {
      "text/plain": [
       "tensor(0., grad_fn=<SumBackward0>)"
      ]
     },
     "execution_count": 100,
     "metadata": {},
     "output_type": "execute_result"
    }
   ],
   "source": [
    "#check dl_dw\n",
    "(custom_conv.dl_dw - dl_dw).abs().sum()"
   ]
  },
  {
   "cell_type": "code",
   "execution_count": null,
   "metadata": {},
   "outputs": [],
   "source": []
  }
 ],
 "metadata": {
  "interpreter": {
   "hash": "4f523f7c76dd18e7ed336217f32f6f704c23c323644912475b9d3570cf04b060"
  },
  "kernelspec": {
   "display_name": "Python 3.8.12 ('base')",
   "language": "python",
   "name": "python3"
  },
  "language_info": {
   "codemirror_mode": {
    "name": "ipython",
    "version": 3
   },
   "file_extension": ".py",
   "mimetype": "text/x-python",
   "name": "python",
   "nbconvert_exporter": "python",
   "pygments_lexer": "ipython3",
   "version": "3.8.12"
  },
  "orig_nbformat": 4
 },
 "nbformat": 4,
 "nbformat_minor": 2
}
