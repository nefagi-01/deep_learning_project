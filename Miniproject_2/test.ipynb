{
 "cells": [
  {
   "cell_type": "code",
   "execution_count": 1,
   "metadata": {},
   "outputs": [],
   "source": [
    "%load_ext autoreload\n",
    "%autoreload 2"
   ]
  },
  {
   "cell_type": "code",
   "execution_count": 2,
   "outputs": [],
   "source": [
    "import torch\n",
    "from torch.nn.functional import unfold, fold\n",
    "from others.implementations import *\n",
    "from torch.nn.functional import conv2d"
   ],
   "metadata": {
    "collapsed": false,
    "pycharm": {
     "name": "#%%\n"
    }
   }
  },
  {
   "cell_type": "markdown",
   "metadata": {},
   "source": [
    "# Convolution"
   ]
  },
  {
   "cell_type": "code",
   "execution_count": 40,
   "metadata": {},
   "outputs": [],
   "source": [
    "padding = 5\n",
    "stride = 2\n",
    "custom_conv = Conv2d(3, 1, kernel_size=2, padding=padding, stride = stride)\n",
    "\n",
    "inp = torch.ones((5,3,13,13))\n",
    "inp[:,0,:,:] = 3\n",
    "inp.requires_grad = True\n",
    "out = custom_conv.forward(inp)\n",
    "target = torch.zeros(out.size())\n",
    "\n",
    "kernel = torch.ones((1,3,2,2))\n",
    "kernel.requires_grad = True\n",
    "kernel.retain_grad()\n",
    "inp_padded = custom_conv.add_padding(inp, padding)\n",
    "inp_padded = inp_padded.detach()\n",
    "inp_padded.requires_grad = True\n",
    "target_out = conv2d(inp_padded, kernel, stride=stride)\n",
    "target_out.retain_grad()\n",
    "loss = 0.5*((target-target_out)**2).sum()\n",
    "loss.backward()\n",
    "dl_dout = target_out.grad.detach()\n",
    "dl_dw = kernel.grad.detach()\n",
    "dl_dx = inp_padded.grad.detach()"
   ]
  },
  {
   "cell_type": "code",
   "execution_count": 41,
   "metadata": {},
   "outputs": [
    {
     "data": {
      "text/plain": [
       "tensor(0., grad_fn=<SumBackward0>)"
      ]
     },
     "execution_count": 41,
     "metadata": {},
     "output_type": "execute_result"
    }
   ],
   "source": [
    "#check out\n",
    "(target_out - out).abs().sum()"
   ]
  },
  {
   "cell_type": "code",
   "execution_count": 42,
   "metadata": {},
   "outputs": [
    {
     "data": {
      "text/plain": [
       "tensor(0.)"
      ]
     },
     "execution_count": 42,
     "metadata": {},
     "output_type": "execute_result"
    }
   ],
   "source": [
    "#check dl_dx\n",
    "(custom_conv.backward(dl_dout) - dl_dx).abs().sum()"
   ]
  },
  {
   "cell_type": "code",
   "execution_count": 43,
   "metadata": {},
   "outputs": [
    {
     "data": {
      "text/plain": [
       "tensor(0., grad_fn=<SumBackward0>)"
      ]
     },
     "execution_count": 43,
     "metadata": {},
     "output_type": "execute_result"
    }
   ],
   "source": [
    "#check dl_dw\n",
    "(custom_conv.dl_dw - dl_dw).abs().sum()"
   ]
  },
  {
   "cell_type": "markdown",
   "metadata": {},
   "source": [
    "## Up-sampling"
   ]
  },
  {
   "cell_type": "code",
   "execution_count": 399,
   "metadata": {},
   "outputs": [],
   "source": [
    "from torch import nn\n",
    "import others.implementations"
   ]
  },
  {
   "cell_type": "code",
   "execution_count": 400,
   "metadata": {},
   "outputs": [],
   "source": [
    "scale_factor = 5\n",
    "target_upsample = nn.Upsample(scale_factor = scale_factor, mode = 'nearest')\n",
    "custom_upsample = NearestUpsampling(scale_factor = scale_factor)\n",
    "inp = torch.ones((1,3,14,8))\n",
    "inp.requires_grad = True\n",
    "target_out = target_upsample.forward(inp)\n",
    "target_out.retain_grad()\n",
    "custom_out = custom_upsample.forward(inp)\n",
    "target = torch.zeros((1,3,inp.shape[-2]*scale_factor, inp.shape[-1]*scale_factor))\n",
    "loss = 0.5*((target-target_out)**2).sum()\n",
    "loss.backward()\n"
   ]
  },
  {
   "cell_type": "code",
   "execution_count": 401,
   "metadata": {},
   "outputs": [
    {
     "data": {
      "text/plain": [
       "tensor(0., grad_fn=<SumBackward0>)"
      ]
     },
     "execution_count": 401,
     "metadata": {},
     "output_type": "execute_result"
    }
   ],
   "source": [
    "#check out\n",
    "(target_out - custom_out).abs().sum()"
   ]
  },
  {
   "cell_type": "code",
   "execution_count": 402,
   "metadata": {},
   "outputs": [
    {
     "data": {
      "text/plain": [
       "tensor(0., grad_fn=<SumBackward0>)"
      ]
     },
     "execution_count": 402,
     "metadata": {},
     "output_type": "execute_result"
    }
   ],
   "source": [
    "#check dl_dx\n",
    "(custom_upsample.backward(target_out)-inp.grad).abs().sum()"
   ]
  },
  {
   "cell_type": "markdown",
   "metadata": {},
   "source": [
    "## Model"
   ]
  },
  {
   "cell_type": "code",
   "execution_count": 12,
   "metadata": {},
   "outputs": [
    {
     "name": "stdout",
     "output_type": "stream",
     "text": [
      "The autoreload extension is already loaded. To reload it, use:\n",
      "  %reload_ext autoreload\n"
     ]
    }
   ],
   "source": [
    "from others.implementations import *\n",
    "import torch.nn as nn\n",
    "%load_ext autoreload\n",
    "%autoreload 2\n"
   ]
  },
  {
   "cell_type": "code",
   "execution_count": 13,
   "metadata": {},
   "outputs": [],
   "source": [
    "inp_custom = torch.rand((1, 3, 14, 8))\n",
    "inp_target = inp_custom.clone()\n",
    "inp_custom.requires_grad = True\n",
    "inp_target.requires_grad = True"
   ]
  },
  {
   "cell_type": "code",
   "execution_count": 14,
   "metadata": {},
   "outputs": [],
   "source": [
    "custom_model = Sequential(\n",
    "    Conv2d(3, 5, kernel_size=3, stride=2, padding=1),\n",
    "    ReLU(),\n",
    "    Conv2d(5, 5, kernel_size=3, stride=2, padding=1),\n",
    "    ReLU(),\n",
    "    NearestUpsampling(scale_factor=2),\n",
    "    Conv2d(5, 5, kernel_size=3, stride=2, padding=1),\n",
    "    ReLU(),\n",
    "    NearestUpsampling(scale_factor=2),\n",
    "    Conv2d(5, 1, kernel_size=3, stride=2, padding=1),\n",
    "    Sigmoid()\n",
    "    )\n"
   ]
  },
  {
   "cell_type": "code",
   "execution_count": 15,
   "metadata": {},
   "outputs": [],
   "source": [
    "target_model = nn.Sequential(\n",
    "    nn.Conv2d(3,5,kernel_size=3, stride=2, padding=1),\n",
    "    nn.ReLU(),\n",
    "    nn.Conv2d(5,5,kernel_size=3, stride=2, padding=1),\n",
    "    nn.ReLU(),\n",
    "    nn.Upsample(scale_factor=2),\n",
    "    nn.Conv2d(5,5,kernel_size=3, stride=2, padding=1),\n",
    "    nn.ReLU(),\n",
    "    nn.Upsample(scale_factor=2),\n",
    "    nn.Conv2d(5,1,kernel_size=3, stride=2, padding=1),\n",
    "    nn.Sigmoid()\n",
    "    )\n",
    "def init_weights(m):\n",
    "    if isinstance(m, nn.Conv2d):\n",
    "        nn.init.ones_(m.weight)\n",
    "target_model = target_model.apply(init_weights)"
   ]
  },
  {
   "cell_type": "code",
   "execution_count": 16,
   "metadata": {},
   "outputs": [
    {
     "name": "stderr",
     "output_type": "stream",
     "text": [
      "c:\\Users\\stefa\\deep-learning-project\\Miniproject_2\\others\\implementations.py:76: UserWarning: __floordiv__ is deprecated, and its behavior will change in a future version of pytorch. It currently rounds toward 0 (like the 'trunc' function NOT 'floor'). This results in incorrect rounding for negative values. To keep the current behavior, use torch.div(a, b, rounding_mode='trunc'), or for actual floor division, use torch.div(a, b, rounding_mode='floor').\n",
      "  return ((prev_dim - kernel_dim)//stride)+1\n"
     ]
    },
    {
     "data": {
      "text/plain": [
       "tensor(0., grad_fn=<SumBackward0>)"
      ]
     },
     "execution_count": 16,
     "metadata": {},
     "output_type": "execute_result"
    }
   ],
   "source": [
    "#check out\n",
    "custom_out = custom_model.forward(inp_custom)\n",
    "target_out = target_model.forward(inp_target)\n",
    "(custom_out - target_out).abs().sum()"
   ]
  },
  {
   "cell_type": "code",
   "execution_count": 17,
   "metadata": {},
   "outputs": [
    {
     "data": {
      "text/plain": [
       "tensor(0.)"
      ]
     },
     "execution_count": 17,
     "metadata": {},
     "output_type": "execute_result"
    }
   ],
   "source": [
    "#check dl_dx\n",
    "target = torch.zeros(custom_out.shape)\n",
    "custom_mse = MSE()\n",
    "target_mse = nn.MSELoss()\n",
    "custom_loss = custom_mse.forward(custom_out, target)\n",
    "target_loss =  target_mse(target_out, target)\n",
    "custom_loss.backward()\n",
    "target_loss.backward()\n",
    "(inp_custom.grad - inp_target.grad).abs().sum()"
   ]
  },
  {
   "cell_type": "code",
   "execution_count": 18,
   "metadata": {},
   "outputs": [],
   "source": [
    "from torch import optim\n",
    "#check optimizer\n",
    "\n",
    "custom_optimizer = SGD(custom_model.param(), 0.01)\n",
    "target_optimizer = optim.SGD(target_model.parameters(), lr=0.01)\n",
    "custom_optimizer.step()\n",
    "target_optimizer.step()"
   ]
  },
  {
   "cell_type": "code",
   "execution_count": 19,
   "metadata": {},
   "outputs": [
    {
     "data": {
      "text/plain": [
       "tensor(0., grad_fn=<SumBackward0>)"
      ]
     },
     "execution_count": 19,
     "metadata": {},
     "output_type": "execute_result"
    }
   ],
   "source": [
    "#check out\n",
    "custom_out = custom_model.forward(inp_custom)\n",
    "target_out = target_model.forward(inp_target)\n",
    "(custom_out - target_out).abs().sum()"
   ]
  },
  {
   "cell_type": "code",
   "execution_count": null,
   "metadata": {},
   "outputs": [],
   "source": []
  },
  {
   "cell_type": "code",
   "execution_count": 22,
   "outputs": [
    {
     "name": "stdout",
     "output_type": "stream",
     "text": [
      "torch.Size([1, 12, 16])\n",
      "torch.Size([12, 2])\n",
      "torch.Size([1, 2, 16])\n",
      "(4, 4)\n"
     ]
    },
    {
     "name": "stderr",
     "output_type": "stream",
     "text": [
      "C:\\Users\\Giovanni\\AppData\\Local\\Temp\\ipykernel_15988\\4213046700.py:19: UserWarning: __floordiv__ is deprecated, and its behavior will change in a future version of pytorch. It currently rounds toward 0 (like the 'trunc' function NOT 'floor'). This results in incorrect rounding for negative values. To keep the current behavior, use torch.div(a, b, rounding_mode='trunc'), or for actual floor division, use torch.div(a, b, rounding_mode='floor').\n",
      "  return ((prev_dim - kernel_dim) // stride) + 1\n"
     ]
    }
   ],
   "source": [
    "from torch import empty, cat, arange\n",
    "from torch.nn.functional import fold, unfold\n",
    "import torch\n",
    "\n",
    "out_channels, in_channels, kernel_size_1, kernel_size_2 = 2, 3, 2, 2\n",
    "kernel_size = (kernel_size_1, kernel_size_2)\n",
    "stride = 1\n",
    "\n",
    "x = empty((1,3,5,5)).fill_(1)\n",
    "kernel = empty((out_channels, in_channels, kernel_size[0], kernel_size[1])).fill_(1)\n",
    "bias = empty(out_channels).fill_(1)\n",
    "x_unfolded = unfold(x, kernel.shape[-2:], stride=stride)\n",
    "conv_output = x_unfolded.transpose(1, 2).matmul(kernel.reshape(out_channels, -1).t()).transpose(1, 2) + bias.view(1, -1, 1)\n",
    "out = fold(conv_output, ((x.shape[2] - kernel_size[0]) // stride + 1, (x.shape[3] - kernel_size[1]) // stride + 1), (1, 1))\n",
    "\n",
    "#new_dim = self.output_dim(torch.tensor(x.shape[-2:]), torch.tensor(kernel.shape[-2:]), stride)\n",
    "#out = fold(conv_output, new_dim, (1, 1))"
   ],
   "metadata": {
    "collapsed": false,
    "pycharm": {
     "name": "#%%\n"
    }
   }
  },
  {
   "cell_type": "code",
   "execution_count": 14,
   "outputs": [],
   "source": [
    "def test_backward_conv2d():\n",
    "    class torch_Net(torch.nn.Module):\n",
    "        def __init__(self, in_channels, out_channels, kernel_size, stride, padding,bias):\n",
    "            super(torch_Net,self).__init__()\n",
    "\n",
    "\n",
    "            self.conv1 = torch.nn.Conv2d(in_channels=in_channels,out_channels=out_channels,kernel_size=kernel_size,stride=stride,padding=padding,bias=bias)\n",
    "\n",
    "        def forward(self, input):\n",
    "            input = self.conv1(input)\n",
    "            #input = torch.nn.functional.relu(input)\n",
    "            return input\n",
    "\n",
    "    in_channels=24\n",
    "    out_channels=3\n",
    "    kernel_size=(4,6)\n",
    "    stride=(2,3)\n",
    "    padding=(2,3)\n",
    "    bias=True\n",
    "\n",
    "    input = torch.randn(15,in_channels,12,12, requires_grad=True)\n",
    "    my_nn = torch_Net(in_channels, out_channels, kernel_size, stride, padding, bias)\n",
    "\n",
    "    out_torch = my_nn(input)\n",
    "\n",
    "    my_nn.zero_grad()\n",
    "    initial_gradient = torch.rand_like(out_torch)\n",
    "    out_torch.backward(initial_gradient)\n",
    "    torch_gradient = input.grad\n",
    "    torch_gradient_weight = my_nn.conv1.weight.grad\n",
    "    if bias:\n",
    "        torch_gradient_bias = my_nn.conv1.bias.grad\n",
    "\n",
    "    own_conv2d = Conv2d(in_channels=in_channels,out_channels=out_channels,kernel_size=kernel_size,stride=stride,padding=padding,bias=bias)\n",
    "    own_conv2d.kernel = my_nn.conv1.weight\n",
    "    own_conv2d.bias = my_nn.conv1.bias\n",
    "\n",
    "    out_own = own_conv2d.forward(input)\n",
    "    own_gradient=own_conv2d.backward(initial_gradient)\n",
    "    own_gradients = own_conv2d.param()\n",
    "\n",
    "    #print(\"Own gradient: {}\".format(own_gradient))\n",
    "    print(own_gradient.shape)\n",
    "    print(torch_gradient.shape)\n",
    "    assert(own_gradient.shape==torch_gradient.shape)\n",
    "    torch.testing.assert_allclose(out_torch,out_own)\n",
    "    torch.testing.assert_allclose(torch_gradient , own_gradient)\n",
    "    torch.testing.assert_allclose(torch_gradient_weight , own_gradients[0][1])\n",
    "    if bias:\n",
    "        torch.testing.assert_allclose(torch_gradient_bias, own_gradients[1][1])"
   ],
   "metadata": {
    "collapsed": false,
    "pycharm": {
     "name": "#%%\n"
    }
   }
  },
  {
   "cell_type": "code",
   "execution_count": 15,
   "outputs": [
    {
     "name": "stdout",
     "output_type": "stream",
     "text": [
      "torch.Size([3])\n",
      "torch.Size([15, 24, 16, 18])\n",
      "torch.Size([15, 24, 12, 12])\n"
     ]
    },
    {
     "ename": "AssertionError",
     "evalue": "",
     "output_type": "error",
     "traceback": [
      "\u001B[1;31m---------------------------------------------------------------------------\u001B[0m",
      "\u001B[1;31mAssertionError\u001B[0m                            Traceback (most recent call last)",
      "Input \u001B[1;32mIn [15]\u001B[0m, in \u001B[0;36m<cell line: 1>\u001B[1;34m()\u001B[0m\n\u001B[1;32m----> 1\u001B[0m \u001B[43mtest_backward_conv2d\u001B[49m\u001B[43m(\u001B[49m\u001B[43m)\u001B[49m\n",
      "Input \u001B[1;32mIn [14]\u001B[0m, in \u001B[0;36mtest_backward_conv2d\u001B[1;34m()\u001B[0m\n\u001B[0;32m     43\u001B[0m \u001B[38;5;28mprint\u001B[39m(own_gradient\u001B[38;5;241m.\u001B[39mshape)\n\u001B[0;32m     44\u001B[0m \u001B[38;5;28mprint\u001B[39m(torch_gradient\u001B[38;5;241m.\u001B[39mshape)\n\u001B[1;32m---> 45\u001B[0m \u001B[38;5;28;01massert\u001B[39;00m(own_gradient\u001B[38;5;241m.\u001B[39mshape\u001B[38;5;241m==\u001B[39mtorch_gradient\u001B[38;5;241m.\u001B[39mshape)\n\u001B[0;32m     46\u001B[0m torch\u001B[38;5;241m.\u001B[39mtesting\u001B[38;5;241m.\u001B[39massert_allclose(out_torch,out_own)\n\u001B[0;32m     47\u001B[0m torch\u001B[38;5;241m.\u001B[39mtesting\u001B[38;5;241m.\u001B[39massert_allclose(torch_gradient , own_gradient)\n",
      "\u001B[1;31mAssertionError\u001B[0m: "
     ]
    }
   ],
   "source": [
    "test_backward_conv2d()"
   ],
   "metadata": {
    "collapsed": false,
    "pycharm": {
     "name": "#%%\n"
    }
   }
  },
  {
   "cell_type": "code",
   "execution_count": null,
   "outputs": [],
   "source": [
    "torch.nn.init.xavier_uniform()"
   ],
   "metadata": {
    "collapsed": false,
    "pycharm": {
     "name": "#%%\n"
    }
   }
  }
 ],
 "metadata": {
  "interpreter": {
   "hash": "4f523f7c76dd18e7ed336217f32f6f704c23c323644912475b9d3570cf04b060"
  },
  "kernelspec": {
   "display_name": "Python 3.8.12 ('base')",
   "language": "python",
   "name": "python3"
  },
  "language_info": {
   "codemirror_mode": {
    "name": "ipython",
    "version": 3
   },
   "file_extension": ".py",
   "mimetype": "text/x-python",
   "name": "python",
   "nbconvert_exporter": "python",
   "pygments_lexer": "ipython3",
   "version": "3.8.12"
  },
  "orig_nbformat": 4
 },
 "nbformat": 4,
 "nbformat_minor": 2
}