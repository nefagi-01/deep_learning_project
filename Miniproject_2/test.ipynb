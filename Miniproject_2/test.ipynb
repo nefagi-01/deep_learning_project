{
 "cells": [
  {
   "cell_type": "code",
   "execution_count": 39,
   "metadata": {},
   "outputs": [
    {
     "name": "stdout",
     "output_type": "stream",
     "text": [
      "The autoreload extension is already loaded. To reload it, use:\n",
      "  %reload_ext autoreload\n"
     ]
    }
   ],
   "source": [
    "%load_ext autoreload\n",
    "%autoreload 2\n",
    "\n",
    "import torch\n",
    "from torch.nn.functional import unfold, fold\n",
    "from others.implementations import Convolution\n",
    "from torch.nn.functional import conv2d"
   ]
  },
  {
   "cell_type": "markdown",
   "metadata": {},
   "source": [
    "## Convolution"
   ]
  },
  {
   "cell_type": "code",
   "execution_count": 40,
   "metadata": {},
   "outputs": [],
   "source": [
    "padding = 5\n",
    "stride = 2\n",
    "custom_conv = Convolution(3, 1, kernel_size=2, padding=padding, stride = stride)\n",
    "\n",
    "inp = torch.ones((5,3,13,13))\n",
    "inp[:,0,:,:] = 3\n",
    "inp.requires_grad = True\n",
    "out = custom_conv.forward(inp)\n",
    "target = torch.zeros(out.size())\n",
    "\n",
    "kernel = torch.ones((1,3,2,2))\n",
    "kernel.requires_grad = True\n",
    "kernel.retain_grad()\n",
    "inp_padded = custom_conv.add_padding(inp, padding)\n",
    "inp_padded = inp_padded.detach()\n",
    "inp_padded.requires_grad = True\n",
    "target_out = conv2d(inp_padded, kernel, stride=stride)\n",
    "target_out.retain_grad()\n",
    "loss = 0.5*((target-target_out)**2).sum()\n",
    "loss.backward()\n",
    "dl_dout = target_out.grad.detach()\n",
    "dl_dw = kernel.grad.detach()\n",
    "dl_dx = inp_padded.grad.detach()"
   ]
  },
  {
   "cell_type": "code",
   "execution_count": 41,
   "metadata": {},
   "outputs": [
    {
     "data": {
      "text/plain": [
       "tensor(0., grad_fn=<SumBackward0>)"
      ]
     },
     "execution_count": 41,
     "metadata": {},
     "output_type": "execute_result"
    }
   ],
   "source": [
    "#check out\n",
    "(target_out - out).abs().sum()"
   ]
  },
  {
   "cell_type": "code",
   "execution_count": 42,
   "metadata": {},
   "outputs": [
    {
     "data": {
      "text/plain": [
       "tensor(0.)"
      ]
     },
     "execution_count": 42,
     "metadata": {},
     "output_type": "execute_result"
    }
   ],
   "source": [
    "#check dl_dx\n",
    "(custom_conv.backward(dl_dout) - dl_dx).abs().sum()"
   ]
  },
  {
   "cell_type": "code",
   "execution_count": 43,
   "metadata": {},
   "outputs": [
    {
     "data": {
      "text/plain": [
       "tensor(0., grad_fn=<SumBackward0>)"
      ]
     },
     "execution_count": 43,
     "metadata": {},
     "output_type": "execute_result"
    }
   ],
   "source": [
    "#check dl_dw\n",
    "(custom_conv.dl_dw - dl_dw).abs().sum()"
   ]
  },
  {
   "cell_type": "markdown",
   "metadata": {},
   "source": [
    "## Up-sampling"
   ]
  },
  {
   "cell_type": "code",
   "execution_count": 399,
   "metadata": {},
   "outputs": [],
   "source": [
    "from torch import nn\n",
    "import others.implementations"
   ]
  },
  {
   "cell_type": "code",
   "execution_count": 400,
   "metadata": {},
   "outputs": [],
   "source": [
    "scale_factor = 5\n",
    "target_upsample = nn.Upsample(scale_factor = scale_factor, mode = 'nearest')\n",
    "custom_upsample = others.implementations.Upsample(scale_factor = scale_factor)\n",
    "inp = torch.ones((1,3,14,8))\n",
    "inp.requires_grad = True\n",
    "target_out = target_upsample.forward(inp)\n",
    "target_out.retain_grad()\n",
    "custom_out = custom_upsample.forward(inp)\n",
    "target = torch.zeros((1,3,inp.shape[-2]*scale_factor, inp.shape[-1]*scale_factor))\n",
    "loss = 0.5*((target-target_out)**2).sum()\n",
    "loss.backward()\n"
   ]
  },
  {
   "cell_type": "code",
   "execution_count": 401,
   "metadata": {},
   "outputs": [
    {
     "data": {
      "text/plain": [
       "tensor(0., grad_fn=<SumBackward0>)"
      ]
     },
     "execution_count": 401,
     "metadata": {},
     "output_type": "execute_result"
    }
   ],
   "source": [
    "#check out\n",
    "(target_out - custom_out).abs().sum()"
   ]
  },
  {
   "cell_type": "code",
   "execution_count": 402,
   "metadata": {},
   "outputs": [
    {
     "data": {
      "text/plain": [
       "tensor(0., grad_fn=<SumBackward0>)"
      ]
     },
     "execution_count": 402,
     "metadata": {},
     "output_type": "execute_result"
    }
   ],
   "source": [
    "#check dl_dx\n",
    "(custom_upsample.backward(target_out)-inp.grad).abs().sum()"
   ]
  },
  {
   "cell_type": "markdown",
   "metadata": {},
   "source": [
    "## Model"
   ]
  },
  {
   "cell_type": "code",
   "execution_count": 1,
   "metadata": {},
   "outputs": [],
   "source": [
    "from others.implementations import *\n",
    "import torch.nn as nn\n",
    "%load_ext autoreload\n",
    "%autoreload 2\n"
   ]
  },
  {
   "cell_type": "code",
   "execution_count": 2,
   "metadata": {},
   "outputs": [],
   "source": [
    "inp_custom = torch.rand((1, 3, 32, 32))\n",
    "inp_target = inp_custom.clone()\n",
    "inp_target.requires_grad = True"
   ]
  },
  {
   "cell_type": "code",
   "execution_count": 3,
   "metadata": {},
   "outputs": [],
   "source": [
    "custom_model = Sequential(\n",
    "    Convolution(3, 5, kernel_size=2, stride=2, padding=0),\n",
    "    ReLU(),\n",
    "    Convolution(5, 5, kernel_size=2, stride=2, padding=0),\n",
    "    ReLU(),\n",
    "    Upsample(scale_factor=2),\n",
    "    Convolution(5, 5, kernel_size=3, stride=1, padding=1),\n",
    "    ReLU(),\n",
    "    Upsample(scale_factor=2),\n",
    "    Convolution(5, 1, kernel_size=3, stride=1, padding=1),\n",
    "    Sigmoid()\n",
    "    )\n"
   ]
  },
  {
   "cell_type": "code",
   "execution_count": 4,
   "metadata": {},
   "outputs": [],
   "source": [
    "target_model = nn.Sequential(\n",
    "    nn.Conv2d(3,5,kernel_size=2, stride=2, padding=0),\n",
    "    nn.ReLU(),\n",
    "    nn.Conv2d(5,5,kernel_size=2, stride=2, padding=0),\n",
    "    nn.ReLU(),\n",
    "    nn.Upsample(scale_factor=2),\n",
    "    nn.Conv2d(5,5,kernel_size=3, stride=1, padding=1),\n",
    "    nn.ReLU(),\n",
    "    nn.Upsample(scale_factor=2),\n",
    "    nn.Conv2d(5,1,kernel_size=3, stride=1, padding=1),\n",
    "    nn.Sigmoid()\n",
    "    )\n",
    "def init_weights(m):\n",
    "    if isinstance(m, nn.Conv2d):\n",
    "        nn.init.ones_(m.weight)\n",
    "target_model = target_model.apply(init_weights)"
   ]
  },
  {
   "cell_type": "code",
   "execution_count": 5,
   "metadata": {},
   "outputs": [
    {
     "name": "stderr",
     "output_type": "stream",
     "text": [
      "c:\\Users\\stefa\\deep-learning-project\\Miniproject_2\\others\\implementations.py:76: UserWarning: __floordiv__ is deprecated, and its behavior will change in a future version of pytorch. It currently rounds toward 0 (like the 'trunc' function NOT 'floor'). This results in incorrect rounding for negative values. To keep the current behavior, use torch.div(a, b, rounding_mode='trunc'), or for actual floor division, use torch.div(a, b, rounding_mode='floor').\n",
      "  return ((prev_dim - kernel_dim)//stride)+1\n"
     ]
    },
    {
     "data": {
      "text/plain": [
       "tensor(0., grad_fn=<SumBackward0>)"
      ]
     },
     "execution_count": 5,
     "metadata": {},
     "output_type": "execute_result"
    }
   ],
   "source": [
    "#check out\n",
    "custom_out = custom_model.forward(inp_custom)\n",
    "target_out = target_model.forward(inp_target)\n",
    "(custom_out - target_out).abs().sum()"
   ]
  },
  {
   "cell_type": "code",
   "execution_count": 6,
   "metadata": {},
   "outputs": [
    {
     "name": "stderr",
     "output_type": "stream",
     "text": [
      "c:\\Users\\stefa\\anaconda3\\lib\\site-packages\\torch\\autograd\\__init__.py:173: UserWarning: CUDA initialization: CUDA unknown error - this may be due to an incorrectly set up environment, e.g. changing env variable CUDA_VISIBLE_DEVICES after program start. Setting the available devices to be zero. (Triggered internally at  C:\\cb\\pytorch_1000000000000\\work\\c10\\cuda\\CUDAFunctions.cpp:112.)\n",
      "  Variable._execution_engine.run_backward(  # Calls into the C++ engine to run the backward pass\n"
     ]
    },
    {
     "data": {
      "text/plain": [
       "tensor(6144.)"
      ]
     },
     "execution_count": 6,
     "metadata": {},
     "output_type": "execute_result"
    }
   ],
   "source": [
    "#check dl_dx\n",
    "target = torch.zeros(custom_out.shape)\n",
    "custom_mse = LossMSE()\n",
    "target_mse = nn.MSELoss()\n",
    "custom_loss = custom_mse.forward(custom_out, target)\n",
    "target_loss =  target_mse(target_out, target)\n",
    "inp_custom_grad = custom_mse.backward()\n",
    "target_loss.backward()\n",
    "(inp_custom_grad - inp_target.grad).abs().sum()"
   ]
  },
  {
   "cell_type": "code",
   "execution_count": 7,
   "metadata": {},
   "outputs": [],
   "source": [
    "from torch import optim\n",
    "#check optimizer\n",
    "\n",
    "custom_optimizer = optim_SGD(custom_model.param(), 0.01)\n",
    "target_optimizer = optim.SGD(target_model.parameters(), lr=0.01)\n",
    "custom_optimizer.step()\n",
    "target_optimizer.step()"
   ]
  },
  {
   "cell_type": "code",
   "execution_count": 8,
   "metadata": {},
   "outputs": [
    {
     "data": {
      "text/plain": [
       "tensor(0., grad_fn=<SumBackward0>)"
      ]
     },
     "execution_count": 8,
     "metadata": {},
     "output_type": "execute_result"
    }
   ],
   "source": [
    "#check out\n",
    "custom_out = custom_model.forward(inp_custom)\n",
    "target_out = target_model.forward(inp_target)\n",
    "(custom_out - target_out).abs().sum()"
   ]
  },
  {
   "cell_type": "code",
   "execution_count": null,
   "metadata": {},
   "outputs": [],
   "source": []
  }
 ],
 "metadata": {
  "interpreter": {
   "hash": "4f523f7c76dd18e7ed336217f32f6f704c23c323644912475b9d3570cf04b060"
  },
  "kernelspec": {
   "display_name": "Python 3.8.12 ('base')",
   "language": "python",
   "name": "python3"
  },
  "language_info": {
   "codemirror_mode": {
    "name": "ipython",
    "version": 3
   },
   "file_extension": ".py",
   "mimetype": "text/x-python",
   "name": "python",
   "nbconvert_exporter": "python",
   "pygments_lexer": "ipython3",
   "version": "3.8.12"
  },
  "orig_nbformat": 4
 },
 "nbformat": 4,
 "nbformat_minor": 2
}
