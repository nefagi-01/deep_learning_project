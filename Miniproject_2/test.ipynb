{
 "cells": [
  {
   "cell_type": "code",
   "execution_count": 39,
   "metadata": {},
   "outputs": [
    {
     "name": "stdout",
     "output_type": "stream",
     "text": [
      "The autoreload extension is already loaded. To reload it, use:\n",
      "  %reload_ext autoreload\n"
     ]
    }
   ],
   "source": [
    "%load_ext autoreload\n",
    "%autoreload 2\n",
    "\n",
    "import torch\n",
    "from torch.nn.functional import unfold, fold\n",
    "from others.implementations import Convolution\n",
    "from torch.nn.functional import conv2d"
   ]
  },
  {
   "cell_type": "markdown",
   "metadata": {},
   "source": [
    "# Convolution"
   ]
  },
  {
   "cell_type": "code",
   "execution_count": 40,
   "metadata": {},
   "outputs": [],
   "source": [
    "padding = 5\n",
    "stride = 2\n",
    "custom_conv = Convolution(3, 1, kernel_size=2, padding=padding, stride = stride)\n",
    "\n",
    "inp = torch.ones((5,3,13,13))\n",
    "inp[:,0,:,:] = 3\n",
    "inp.requires_grad = True\n",
    "out = custom_conv.forward(inp)\n",
    "target = torch.zeros(out.size())\n",
    "\n",
    "kernel = torch.ones((1,3,2,2))\n",
    "kernel.requires_grad = True\n",
    "kernel.retain_grad()\n",
    "inp_padded = custom_conv.add_padding(inp, padding)\n",
    "inp_padded = inp_padded.detach()\n",
    "inp_padded.requires_grad = True\n",
    "target_out = conv2d(inp_padded, kernel, stride=stride)\n",
    "target_out.retain_grad()\n",
    "loss = 0.5*((target-target_out)**2).sum()\n",
    "loss.backward()\n",
    "dl_dout = target_out.grad.detach()\n",
    "dl_dw = kernel.grad.detach()\n",
    "dl_dx = inp_padded.grad.detach()"
   ]
  },
  {
   "cell_type": "code",
   "execution_count": 41,
   "metadata": {},
   "outputs": [
    {
     "data": {
      "text/plain": [
       "tensor(0., grad_fn=<SumBackward0>)"
      ]
     },
     "execution_count": 41,
     "metadata": {},
     "output_type": "execute_result"
    }
   ],
   "source": [
    "#check out\n",
    "(target_out - out).abs().sum()"
   ]
  },
  {
   "cell_type": "code",
   "execution_count": 42,
   "metadata": {},
   "outputs": [
    {
     "data": {
      "text/plain": [
       "tensor(0.)"
      ]
     },
     "execution_count": 42,
     "metadata": {},
     "output_type": "execute_result"
    }
   ],
   "source": [
    "#check dl_dx\n",
    "(custom_conv.backward(dl_dout) - dl_dx).abs().sum()"
   ]
  },
  {
   "cell_type": "code",
   "execution_count": 43,
   "metadata": {},
   "outputs": [
    {
     "data": {
      "text/plain": [
       "tensor(0., grad_fn=<SumBackward0>)"
      ]
     },
     "execution_count": 43,
     "metadata": {},
     "output_type": "execute_result"
    }
   ],
   "source": [
    "#check dl_dw\n",
    "(custom_conv.dl_dw - dl_dw).abs().sum()"
   ]
  },
  {
   "cell_type": "markdown",
   "metadata": {},
   "source": [
    "## Up-sampling"
   ]
  },
  {
   "cell_type": "code",
   "execution_count": 399,
   "metadata": {},
   "outputs": [],
   "source": [
    "from torch import nn\n",
    "import others.implementations"
   ]
  },
  {
   "cell_type": "code",
   "execution_count": 400,
   "metadata": {},
   "outputs": [],
   "source": [
    "scale_factor = 5\n",
    "target_upsample = nn.Upsample(scale_factor = scale_factor, mode = 'nearest')\n",
    "custom_upsample = others.implementations.Upsample(scale_factor = scale_factor)\n",
    "inp = torch.ones((1,3,14,8))\n",
    "inp.requires_grad = True\n",
    "target_out = target_upsample.forward(inp)\n",
    "target_out.retain_grad()\n",
    "custom_out = custom_upsample.forward(inp)\n",
    "target = torch.zeros((1,3,inp.shape[-2]*scale_factor, inp.shape[-1]*scale_factor))\n",
    "loss = 0.5*((target-target_out)**2).sum()\n",
    "loss.backward()\n"
   ]
  },
  {
   "cell_type": "code",
   "execution_count": 401,
   "metadata": {},
   "outputs": [
    {
     "data": {
      "text/plain": [
       "tensor(0., grad_fn=<SumBackward0>)"
      ]
     },
     "execution_count": 401,
     "metadata": {},
     "output_type": "execute_result"
    }
   ],
   "source": [
    "#check out\n",
    "(target_out - custom_out).abs().sum()"
   ]
  },
  {
   "cell_type": "code",
   "execution_count": 402,
   "metadata": {},
   "outputs": [
    {
     "data": {
      "text/plain": [
       "tensor(0., grad_fn=<SumBackward0>)"
      ]
     },
     "execution_count": 402,
     "metadata": {},
     "output_type": "execute_result"
    }
   ],
   "source": [
    "#check dl_dx\n",
    "(custom_upsample.backward(target_out)-inp.grad).abs().sum()"
   ]
  },
  {
   "cell_type": "code",
   "execution_count": null,
   "metadata": {},
   "outputs": [],
   "source": []
  }
 ],
 "metadata": {
  "interpreter": {
   "hash": "4f523f7c76dd18e7ed336217f32f6f704c23c323644912475b9d3570cf04b060"
  },
  "kernelspec": {
   "display_name": "Python 3.8.12 ('base')",
   "language": "python",
   "name": "python3"
  },
  "language_info": {
   "codemirror_mode": {
    "name": "ipython",
    "version": 3
   },
   "file_extension": ".py",
   "mimetype": "text/x-python",
   "name": "python",
   "nbconvert_exporter": "python",
   "pygments_lexer": "ipython3",
   "version": "3.8.12"
  },
  "orig_nbformat": 4
 },
 "nbformat": 4,
 "nbformat_minor": 2
}
