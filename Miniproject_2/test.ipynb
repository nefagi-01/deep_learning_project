{
 "cells": [
  {
   "cell_type": "code",
   "execution_count": 10,
   "metadata": {},
   "outputs": [
    {
     "name": "stdout",
     "output_type": "stream",
     "text": [
      "The autoreload extension is already loaded. To reload it, use:\n",
      "  %reload_ext autoreload\n"
     ]
    }
   ],
   "source": [
    "%load_ext autoreload\n",
    "%autoreload 2"
   ]
  },
  {
   "cell_type": "code",
   "execution_count": 11,
   "metadata": {
    "collapsed": false,
    "pycharm": {
     "name": "#%%\n"
    }
   },
   "outputs": [],
   "source": [
    "import torch\n",
    "from torch.nn.functional import unfold, fold\n",
    "from others.implementations import *\n",
    "from torch import nn\n"
   ]
  },
  {
   "cell_type": "markdown",
   "metadata": {},
   "source": [
    "## Convolution"
   ]
  },
  {
   "cell_type": "code",
   "execution_count": 20,
   "metadata": {},
   "outputs": [],
   "source": [
    "torch.set_default_tensor_type(torch.DoubleTensor)\n",
    "\n",
    "padding = 1\n",
    "stride = 2\n",
    "kernel_size = 7\n",
    "bias = True\n",
    "ch_in = 3\n",
    "ch_out = 5\n",
    "batch = 1\n",
    "size = 32\n",
    "\n",
    "custom_conv = Conv2d(ch_in, ch_out, kernel_size=kernel_size, padding=padding, stride = stride, bias = bias)\n",
    "target_conv = nn.Conv2d(ch_in, ch_out, kernel_size=kernel_size, padding=padding, stride=stride, bias = bias)\n",
    "\n",
    "custom_conv.kernel = target_conv.weight\n",
    "if bias:\n",
    "    custom_conv.bias = target_conv.bias\n",
    "\n",
    "inp_custom = torch.rand((batch, ch_in, size, size))\n",
    "inp_target = inp_custom.clone()\n",
    "inp_target.requires_grad = True\n",
    "\n",
    "custom_out = custom_conv.forward(inp_custom)\n",
    "target_out = target_conv.forward(inp_target)\n",
    "\n",
    "target_out.retain_grad()\n",
    "\n",
    "target = torch.rand(custom_out.shape)\n",
    "\n",
    "custom_mse = MSE()\n",
    "target_mse = nn.MSELoss(reduction='mean')\n",
    "\n",
    "custom_loss = custom_mse.forward(custom_out, target)\n",
    "target_loss =  target_mse(target_out, target)\n",
    "\n",
    "inp_custom_grad = custom_conv.backward(custom_mse.backward())\n",
    "target_loss.backward()"
   ]
  },
  {
   "cell_type": "code",
   "execution_count": 21,
   "metadata": {},
   "outputs": [
    {
     "data": {
      "text/plain": [
       "(tensor(0., grad_fn=<SumBackward0>), tensor(0., grad_fn=<SumBackward0>))"
      ]
     },
     "execution_count": 21,
     "metadata": {},
     "output_type": "execute_result"
    }
   ],
   "source": [
    "#check weights\n",
    "(custom_conv.kernel - target_conv.weight).abs().sum(),  (custom_conv.bias - target_conv.bias).abs().sum() if bias else 0, "
   ]
  },
  {
   "cell_type": "code",
   "execution_count": 22,
   "metadata": {},
   "outputs": [
    {
     "data": {
      "text/plain": [
       "tensor(8.2635e-14, grad_fn=<SumBackward0>)"
      ]
     },
     "execution_count": 22,
     "metadata": {},
     "output_type": "execute_result"
    }
   ],
   "source": [
    "#check out\n",
    "(target_out - custom_out).abs().sum()"
   ]
  },
  {
   "cell_type": "code",
   "execution_count": 23,
   "metadata": {},
   "outputs": [
    {
     "data": {
      "text/plain": [
       "tensor(-5.5511e-17, grad_fn=<SubBackward0>)"
      ]
     },
     "execution_count": 23,
     "metadata": {},
     "output_type": "execute_result"
    }
   ],
   "source": [
    "#check loss\n",
    "\n",
    "(custom_loss-target_loss)"
   ]
  },
  {
   "cell_type": "code",
   "execution_count": 24,
   "metadata": {},
   "outputs": [
    {
     "data": {
      "text/plain": [
       "(tensor(2.9402e-16, grad_fn=<SumBackward0>), True)"
      ]
     },
     "execution_count": 24,
     "metadata": {},
     "output_type": "execute_result"
    }
   ],
   "source": [
    "#check dl_dx\n",
    "(inp_custom_grad - inp_target.grad).abs().sum(), inp_custom_grad.shape == inp_target.grad.shape"
   ]
  },
  {
   "cell_type": "code",
   "execution_count": 25,
   "metadata": {},
   "outputs": [
    {
     "data": {
      "text/plain": [
       "(tensor(1.2566e-14, grad_fn=<SumBackward0>), True)"
      ]
     },
     "execution_count": 25,
     "metadata": {},
     "output_type": "execute_result"
    }
   ],
   "source": [
    "#check dl_dw\n",
    "(custom_conv.dl_dw - target_conv.weight.grad).abs().sum(), custom_conv.dl_dw.shape == target_conv.weight.grad.shape"
   ]
  },
  {
   "cell_type": "code",
   "execution_count": 26,
   "metadata": {},
   "outputs": [
    {
     "name": "stdout",
     "output_type": "stream",
     "text": [
      "tensor(1.9429e-16, grad_fn=<SumBackward0>) True\n"
     ]
    }
   ],
   "source": [
    "#check dl_db\n",
    "if bias:\n",
    "    print((custom_conv.dl_db - target_conv.bias.grad).abs().sum(), custom_conv.dl_db.shape == target_conv.bias.grad.shape)"
   ]
  },
  {
   "cell_type": "markdown",
   "metadata": {},
   "source": [
    "## Up-sampling"
   ]
  },
  {
   "cell_type": "code",
   "execution_count": 12,
   "metadata": {},
   "outputs": [],
   "source": [
    "from torch import nn\n",
    "import others.implementations"
   ]
  },
  {
   "cell_type": "code",
   "execution_count": 17,
   "metadata": {},
   "outputs": [],
   "source": [
    "scale_factor = 5\n",
    "target_upsample = nn.Upsample(scale_factor = scale_factor, mode = 'nearest')\n",
    "custom_upsample = NearestUpsampling(scale_factor = scale_factor)\n",
    "inp = torch.ones((1,3,14,8))\n",
    "inp.requires_grad = True\n",
    "target_out = target_upsample.forward(inp)\n",
    "target_out.retain_grad()\n",
    "custom_out = custom_upsample.forward(inp)\n",
    "target = torch.zeros((1,3,inp.shape[-2]*scale_factor, inp.shape[-1]*scale_factor))\n",
    "loss = 0.5*((target-target_out)**2).sum()\n",
    "loss.backward()\n"
   ]
  },
  {
   "cell_type": "code",
   "execution_count": 18,
   "metadata": {},
   "outputs": [
    {
     "data": {
      "text/plain": [
       "tensor(0., grad_fn=<SumBackward0>)"
      ]
     },
     "execution_count": 18,
     "metadata": {},
     "output_type": "execute_result"
    }
   ],
   "source": [
    "#check out\n",
    "(target_out - custom_out).abs().sum()"
   ]
  },
  {
   "cell_type": "code",
   "execution_count": 19,
   "metadata": {},
   "outputs": [
    {
     "data": {
      "text/plain": [
       "tensor(0., grad_fn=<SumBackward0>)"
      ]
     },
     "execution_count": 19,
     "metadata": {},
     "output_type": "execute_result"
    }
   ],
   "source": [
    "#check dl_dx\n",
    "(custom_upsample.backward(target_out)-inp.grad).abs().sum()"
   ]
  },
  {
   "cell_type": "markdown",
   "metadata": {},
   "source": [
    "## Model"
   ]
  },
  {
   "cell_type": "code",
   "execution_count": 1,
   "metadata": {},
   "outputs": [],
   "source": [
    "from others.implementations import *\n",
    "import torch.nn as nn\n",
    "import torch\n",
    "%load_ext autoreload\n",
    "%autoreload 2\n"
   ]
  },
  {
   "cell_type": "code",
   "execution_count": 10,
   "metadata": {},
   "outputs": [],
   "source": [
    "inp_custom = torch.rand((1, 3, 32, 32))\n",
    "inp_target = inp_custom.clone()\n",
    "inp_target.requires_grad = True"
   ]
  },
  {
   "cell_type": "code",
   "execution_count": 11,
   "metadata": {},
   "outputs": [],
   "source": [
    "# in_channels, out_channels, kernel_size, padding, scale_factor, dilation=None"
   ]
  },
  {
   "cell_type": "code",
   "execution_count": 12,
   "metadata": {},
   "outputs": [],
   "source": [
    "custom_model = Sequential(\n",
    "    Conv2d(3, 5, kernel_size=2, stride=2, padding=0),\n",
    "    ReLU(),\n",
    "    Conv2d(5, 5, kernel_size=2, stride=2, padding=0),\n",
    "    ReLU(),\n",
    "    Upsampling(5, 5, kernel_size=3, padding=1, scale_factor=2),\n",
    "    ReLU(),\n",
    "    Upsampling(5, 3, kernel_size=3, padding=1, scale_factor=2),\n",
    "    Sigmoid()\n",
    "    )\n"
   ]
  },
  {
   "cell_type": "code",
   "execution_count": 13,
   "metadata": {},
   "outputs": [],
   "source": [
    "target_model = nn.Sequential(\n",
    "    nn.Conv2d(3,5,kernel_size=2, stride=2, padding=0),\n",
    "    nn.ReLU(),\n",
    "    nn.Conv2d(5,5,kernel_size=2, stride=2, padding=0),\n",
    "    nn.ReLU(),\n",
    "    nn.Upsample(scale_factor=2),\n",
    "    nn.Conv2d(5,5,kernel_size=3, stride=1, padding=1),\n",
    "    nn.ReLU(),\n",
    "    nn.Upsample(scale_factor=2),\n",
    "    nn.Conv2d(5,3,kernel_size=3, stride=1, padding=1),\n",
    "    nn.Sigmoid()\n",
    "    )\n",
    "target_model = target_model.float()"
   ]
  },
  {
   "cell_type": "code",
   "execution_count": 14,
   "metadata": {},
   "outputs": [],
   "source": [
    "custom_model.modules[0].kernel = target_model[0].weight\n",
    "custom_model.modules[0].bias = target_model[0].bias\n",
    "\n",
    "custom_model.modules[2].kernel = target_model[2].weight\n",
    "custom_model.modules[2].bias = target_model[2].bias\n",
    "\n",
    "custom_model.modules[4].conv2d.kernel = target_model[5].weight\n",
    "custom_model.modules[4].conv2d.bias = target_model[5].bias\n",
    "\n",
    "custom_model.modules[6].conv2d.kernel = target_model[8].weight\n",
    "custom_model.modules[6].conv2d.bias = target_model[8].bias"
   ]
  },
  {
   "cell_type": "code",
   "execution_count": 15,
   "metadata": {},
   "outputs": [
    {
     "data": {
      "text/plain": [
       "tensor(6.0499e-06, grad_fn=<SumBackward0>)"
      ]
     },
     "execution_count": 15,
     "metadata": {},
     "output_type": "execute_result"
    }
   ],
   "source": [
    "#check out\n",
    "custom_out = custom_model.forward(inp_custom)\n",
    "target_out = target_model.forward(inp_target)\n",
    "target_out.retain_grad()\n",
    "(custom_out - target_out).abs().sum()"
   ]
  },
  {
   "cell_type": "code",
   "execution_count": 20,
   "metadata": {},
   "outputs": [
    {
     "name": "stderr",
     "output_type": "stream",
     "text": [
      "c:\\Users\\stefa\\anaconda3\\lib\\site-packages\\torch\\autograd\\__init__.py:173: UserWarning: CUDA initialization: CUDA unknown error - this may be due to an incorrectly set up environment, e.g. changing env variable CUDA_VISIBLE_DEVICES after program start. Setting the available devices to be zero. (Triggered internally at  C:\\cb\\pytorch_1000000000000\\work\\c10\\cuda\\CUDAFunctions.cpp:112.)\n",
      "  Variable._execution_engine.run_backward(  # Calls into the C++ engine to run the backward pass\n"
     ]
    },
    {
     "data": {
      "text/plain": [
       "tensor(1.4442e-09, grad_fn=<SumBackward0>)"
      ]
     },
     "execution_count": 20,
     "metadata": {},
     "output_type": "execute_result"
    }
   ],
   "source": [
    "#check dl_dx\n",
    "target = torch.zeros(custom_out.shape)\n",
    "\n",
    "custom_mse = MSE()\n",
    "target_mse = nn.MSELoss()\n",
    "\n",
    "custom_loss = custom_mse.forward(custom_out, target)\n",
    "target_loss =  target_mse(target_out, target)\n",
    "\n",
    "target_loss.backward()\n",
    "\n",
    "inp_custom_grad = custom_model.backward(custom_mse.backward())\n",
    "(inp_custom_grad - inp_target.grad).abs().sum()"
   ]
  },
  {
   "cell_type": "code",
   "execution_count": 21,
   "metadata": {},
   "outputs": [
    {
     "ename": "RuntimeError",
     "evalue": "a leaf Variable that requires grad is being used in an in-place operation.",
     "output_type": "error",
     "traceback": [
      "\u001b[1;31m---------------------------------------------------------------------------\u001b[0m",
      "\u001b[1;31mRuntimeError\u001b[0m                              Traceback (most recent call last)",
      "\u001b[1;32m~\\AppData\\Local\\Temp/ipykernel_16932/1466025889.py\u001b[0m in \u001b[0;36m<module>\u001b[1;34m\u001b[0m\n\u001b[0;32m      4\u001b[0m \u001b[0mcustom_optimizer\u001b[0m \u001b[1;33m=\u001b[0m \u001b[0mSGD\u001b[0m\u001b[1;33m(\u001b[0m\u001b[0mcustom_model\u001b[0m\u001b[1;33m.\u001b[0m\u001b[0mparam\u001b[0m\u001b[1;33m(\u001b[0m\u001b[1;33m)\u001b[0m\u001b[1;33m,\u001b[0m \u001b[1;36m0.01\u001b[0m\u001b[1;33m)\u001b[0m\u001b[1;33m\u001b[0m\u001b[1;33m\u001b[0m\u001b[0m\n\u001b[0;32m      5\u001b[0m \u001b[0mtarget_optimizer\u001b[0m \u001b[1;33m=\u001b[0m \u001b[0moptim\u001b[0m\u001b[1;33m.\u001b[0m\u001b[0mSGD\u001b[0m\u001b[1;33m(\u001b[0m\u001b[0mtarget_model\u001b[0m\u001b[1;33m.\u001b[0m\u001b[0mparameters\u001b[0m\u001b[1;33m(\u001b[0m\u001b[1;33m)\u001b[0m\u001b[1;33m,\u001b[0m \u001b[0mlr\u001b[0m\u001b[1;33m=\u001b[0m\u001b[1;36m0.01\u001b[0m\u001b[1;33m)\u001b[0m\u001b[1;33m\u001b[0m\u001b[1;33m\u001b[0m\u001b[0m\n\u001b[1;32m----> 6\u001b[1;33m \u001b[0mcustom_optimizer\u001b[0m\u001b[1;33m.\u001b[0m\u001b[0mstep\u001b[0m\u001b[1;33m(\u001b[0m\u001b[1;33m)\u001b[0m\u001b[1;33m\u001b[0m\u001b[1;33m\u001b[0m\u001b[0m\n\u001b[0m\u001b[0;32m      7\u001b[0m \u001b[0mtarget_optimizer\u001b[0m\u001b[1;33m.\u001b[0m\u001b[0mstep\u001b[0m\u001b[1;33m(\u001b[0m\u001b[1;33m)\u001b[0m\u001b[1;33m\u001b[0m\u001b[1;33m\u001b[0m\u001b[0m\n",
      "\u001b[1;32mc:\\Users\\stefa\\deep-learning-project\\Miniproject_2\\others\\implementations.py\u001b[0m in \u001b[0;36mstep\u001b[1;34m(self)\u001b[0m\n\u001b[0;32m    345\u001b[0m \u001b[1;33m\u001b[0m\u001b[0m\n\u001b[0;32m    346\u001b[0m             \u001b[1;31m# Do final update\u001b[0m\u001b[1;33m\u001b[0m\u001b[1;33m\u001b[0m\u001b[1;33m\u001b[0m\u001b[0m\n\u001b[1;32m--> 347\u001b[1;33m             \u001b[0mparam_tuple\u001b[0m\u001b[1;33m[\u001b[0m\u001b[1;36m0\u001b[0m\u001b[1;33m]\u001b[0m\u001b[1;33m.\u001b[0m\u001b[0madd_\u001b[0m\u001b[1;33m(\u001b[0m\u001b[0md_p\u001b[0m\u001b[1;33m,\u001b[0m \u001b[0malpha\u001b[0m\u001b[1;33m=\u001b[0m\u001b[1;33m-\u001b[0m\u001b[0mself\u001b[0m\u001b[1;33m.\u001b[0m\u001b[0mlr\u001b[0m\u001b[1;33m)\u001b[0m\u001b[1;33m\u001b[0m\u001b[1;33m\u001b[0m\u001b[0m\n\u001b[0m\u001b[0;32m    348\u001b[0m \u001b[1;33m\u001b[0m\u001b[0m\n\u001b[0;32m    349\u001b[0m     \u001b[1;32mdef\u001b[0m \u001b[0mzero_grad\u001b[0m\u001b[1;33m(\u001b[0m\u001b[0mself\u001b[0m\u001b[1;33m)\u001b[0m\u001b[1;33m:\u001b[0m\u001b[1;33m\u001b[0m\u001b[1;33m\u001b[0m\u001b[0m\n",
      "\u001b[1;31mRuntimeError\u001b[0m: a leaf Variable that requires grad is being used in an in-place operation."
     ]
    }
   ],
   "source": [
    "from torch import optim\n",
    "#check optimizer\n",
    "\n",
    "custom_optimizer = SGD(custom_model.param(), 0.01)\n",
    "target_optimizer = optim.SGD(target_model.parameters(), lr=0.01)\n",
    "custom_optimizer.step()\n",
    "target_optimizer.step()"
   ]
  },
  {
   "cell_type": "code",
   "execution_count": 62,
   "metadata": {},
   "outputs": [
    {
     "data": {
      "text/plain": [
       "tensor(47.8825, grad_fn=<SumBackward0>)"
      ]
     },
     "execution_count": 62,
     "metadata": {},
     "output_type": "execute_result"
    }
   ],
   "source": [
    "#check out\n",
    "custom_out = custom_model.forward(inp_custom)\n",
    "target_out = target_model.forward(inp_target)\n",
    "(custom_out - target_out).abs().sum()"
   ]
  },
  {
   "cell_type": "code",
   "execution_count": 24,
   "metadata": {
    "collapsed": false,
    "pycharm": {
     "name": "#%%\n"
    }
   },
   "outputs": [],
   "source": [
    "from torch import empty, cat, arange\n",
    "from torch.nn.functional import fold, unfold\n",
    "import torch\n",
    "\n",
    "out_channels, in_channels, kernel_size_1, kernel_size_2 = 2, 3, 2, 2\n",
    "kernel_size = (kernel_size_1, kernel_size_2)\n",
    "stride = 1\n",
    "\n",
    "x = empty((1,3,5,5)).fill_(1)\n",
    "kernel = empty((out_channels, in_channels, kernel_size[0], kernel_size[1])).fill_(1)\n",
    "bias = empty(out_channels).fill_(1)\n",
    "x_unfolded = unfold(x, kernel.shape[-2:], stride=stride)\n",
    "conv_output = x_unfolded.transpose(1, 2).matmul(kernel.reshape(out_channels, -1).t()).transpose(1, 2) + bias.view(1, -1, 1)\n",
    "out = fold(conv_output, ((x.shape[2] - kernel_size[0]) // stride + 1, (x.shape[3] - kernel_size[1]) // stride + 1), (1, 1))\n",
    "\n",
    "#new_dim = self.output_dim(torch.tensor(x.shape[-2:]), torch.tensor(kernel.shape[-2:]), stride)\n",
    "#out = fold(conv_output, new_dim, (1, 1))"
   ]
  },
  {
   "cell_type": "code",
   "execution_count": 7,
   "metadata": {
    "collapsed": false,
    "pycharm": {
     "name": "#%%\n"
    }
   },
   "outputs": [],
   "source": [
    "torch.set_default_tensor_type(torch.DoubleTensor)\n",
    "\n",
    "def test_backward_conv2d():\n",
    "    class torch_Net(torch.nn.Module):\n",
    "        def __init__(self, in_channels, out_channels, kernel_size, stride, padding,bias):\n",
    "            super(torch_Net,self).__init__()\n",
    "\n",
    "\n",
    "            self.conv1 = torch.nn.Conv2d(in_channels=in_channels,out_channels=out_channels,kernel_size=kernel_size,stride=stride,padding=padding,bias=bias)\n",
    "\n",
    "        def forward(self, input):\n",
    "            input = self.conv1(input)\n",
    "            #input = torch.nn.functional.relu(input)\n",
    "            return input\n",
    "\n",
    "    in_channels=24\n",
    "    out_channels=3\n",
    "    kernel_size=(4,6)\n",
    "    stride=(2,3)\n",
    "    padding=(2,3)\n",
    "    bias=True\n",
    "\n",
    "    input = torch.randn(15,in_channels,12,12, requires_grad=True).float()\n",
    "    my_nn = torch_Net(in_channels, out_channels, kernel_size, stride, padding, bias)\n",
    "\n",
    "    out_torch = my_nn(input)\n",
    "\n",
    "    my_nn.zero_grad()\n",
    "    initial_gradient = torch.rand_like(out_torch)\n",
    "    out_torch.backward(initial_gradient)\n",
    "    torch_gradient = input.grad\n",
    "    torch_gradient_weight = my_nn.conv1.weight.grad\n",
    "    if bias:\n",
    "        torch_gradient_bias = my_nn.conv1.bias.grad\n",
    "\n",
    "    own_conv2d = Conv2d(in_channels=in_channels,out_channels=out_channels,kernel_size=kernel_size,stride=stride,padding=padding,bias=bias)\n",
    "    own_conv2d.kernel = my_nn.conv1.weight\n",
    "    own_conv2d.bias = my_nn.conv1.bias\n",
    "\n",
    "    out_own = own_conv2d.forward(input)\n",
    "    own_gradient=own_conv2d.backward(initial_gradient)\n",
    "    own_gradients = own_conv2d.param()\n",
    "\n",
    "    #print(\"Own gradient: {}\".format(own_gradient))\n",
    "    assert(own_gradient.shape==torch_gradient.shape)\n",
    "    torch.testing.assert_allclose(out_torch,out_own)\n",
    "    torch.testing.assert_allclose(torch_gradient , own_gradient)\n",
    "    torch.testing.assert_allclose(torch_gradient_weight , own_gradients[0][1])\n",
    "    if bias:\n",
    "        torch.testing.assert_allclose(torch_gradient_bias, own_gradients[1][1])"
   ]
  },
  {
   "cell_type": "code",
   "execution_count": 8,
   "metadata": {
    "collapsed": false,
    "pycharm": {
     "name": "#%%\n"
    }
   },
   "outputs": [
    {
     "name": "stdout",
     "output_type": "stream",
     "text": [
      "torch.Size([15, 24, 12, 12])\n",
      "torch.Size([15, 24, 12, 12])\n"
     ]
    }
   ],
   "source": [
    "test_backward_conv2d()"
   ]
  },
  {
   "cell_type": "code",
   "execution_count": 1,
   "metadata": {},
   "outputs": [],
   "source": [
    "import pickle\n",
    "with open(\"../top20.pickle\", \"rb\") as f:\n",
    "    data = pickle.load(f)"
   ]
  },
  {
   "cell_type": "code",
   "execution_count": 9,
   "metadata": {},
   "outputs": [
    {
     "data": {
      "text/plain": [
       "[('shallow_channels=32,deep_channels=64,lr=0.01,momentum=0.9,nesterov=True,batch_size=4,downsampling_kernel_size=2,upsampling_kernel_size=5',\n",
       "  tensor(23.0711)),\n",
       " ('shallow_channels=32,deep_channels=64,lr=0.01,momentum=0.9,nesterov=True,batch_size=4,downsampling_kernel_size=4,upsampling_kernel_size=3',\n",
       "  tensor(22.9439)),\n",
       " ('shallow_channels=32,deep_channels=64,lr=0.01,momentum=0.9,nesterov=True,batch_size=4,downsampling_kernel_size=4,upsampling_kernel_size=5',\n",
       "  tensor(22.8452)),\n",
       " ('shallow_channels=16,deep_channels=64,lr=0.01,momentum=0.9,nesterov=False,batch_size=4,downsampling_kernel_size=2,upsampling_kernel_size=5',\n",
       "  tensor(22.7992)),\n",
       " ('shallow_channels=16,deep_channels=64,lr=0.01,momentum=0.9,nesterov=True,batch_size=4,downsampling_kernel_size=2,upsampling_kernel_size=5',\n",
       "  tensor(22.7090)),\n",
       " ('shallow_channels=16,deep_channels=64,lr=0.01,momentum=0.9,nesterov=True,batch_size=4,downsampling_kernel_size=4,upsampling_kernel_size=5',\n",
       "  tensor(22.6540)),\n",
       " ('shallow_channels=16,deep_channels=64,lr=0.01,momentum=0.9,nesterov=True,batch_size=4,downsampling_kernel_size=4,upsampling_kernel_size=3',\n",
       "  tensor(22.6113)),\n",
       " ('shallow_channels=32,deep_channels=64,lr=0.01,momentum=0.9,nesterov=False,batch_size=4,downsampling_kernel_size=4,upsampling_kernel_size=3',\n",
       "  tensor(22.6056)),\n",
       " ('shallow_channels=32,deep_channels=64,lr=0.01,momentum=0.9,nesterov=True,batch_size=4,downsampling_kernel_size=2,upsampling_kernel_size=3',\n",
       "  tensor(22.5241)),\n",
       " ('shallow_channels=16,deep_channels=64,lr=0.01,momentum=0.9,nesterov=True,batch_size=4,downsampling_kernel_size=2,upsampling_kernel_size=3',\n",
       "  tensor(22.4377)),\n",
       " ('shallow_channels=16,deep_channels=64,lr=0.01,momentum=0.9,nesterov=False,batch_size=4,downsampling_kernel_size=4,upsampling_kernel_size=3',\n",
       "  tensor(22.4042)),\n",
       " ('shallow_channels=32,deep_channels=64,lr=0.05,momentum=0.9,nesterov=False,batch_size=16,downsampling_kernel_size=2,upsampling_kernel_size=3',\n",
       "  tensor(22.4033)),\n",
       " ('shallow_channels=16,deep_channels=32,lr=0.01,momentum=0.9,nesterov=True,batch_size=4,downsampling_kernel_size=2,upsampling_kernel_size=5',\n",
       "  tensor(22.2962)),\n",
       " ('shallow_channels=16,deep_channels=32,lr=0.01,momentum=0.9,nesterov=True,batch_size=4,downsampling_kernel_size=2,upsampling_kernel_size=3',\n",
       "  tensor(22.1827)),\n",
       " ('shallow_channels=32,deep_channels=64,lr=0.01,momentum=0.9,nesterov=False,batch_size=4,downsampling_kernel_size=2,upsampling_kernel_size=3',\n",
       "  tensor(22.1286)),\n",
       " ('shallow_channels=16,deep_channels=32,lr=0.01,momentum=0.9,nesterov=False,batch_size=4,downsampling_kernel_size=2,upsampling_kernel_size=3',\n",
       "  tensor(21.9387)),\n",
       " ('shallow_channels=16,deep_channels=64,lr=0.01,momentum=0.9,nesterov=False,batch_size=4,downsampling_kernel_size=2,upsampling_kernel_size=3',\n",
       "  tensor(21.6664)),\n",
       " ('shallow_channels=8,deep_channels=32,lr=0.01,momentum=0.9,nesterov=True,batch_size=4,downsampling_kernel_size=2,upsampling_kernel_size=3',\n",
       "  tensor(21.3805)),\n",
       " ('shallow_channels=32,deep_channels=64,lr=0.05,momentum=0.9,nesterov=True,batch_size=16,downsampling_kernel_size=2,upsampling_kernel_size=3',\n",
       "  tensor(21.1040)),\n",
       " ('shallow_channels=8,deep_channels=32,lr=0.01,momentum=0.9,nesterov=False,batch_size=4,downsampling_kernel_size=2,upsampling_kernel_size=3',\n",
       "  tensor(20.7606))]"
      ]
     },
     "execution_count": 9,
     "metadata": {},
     "output_type": "execute_result"
    }
   ],
   "source": [
    "sorted(data.items(), key=lambda x: -x[1])"
   ]
  },
  {
   "cell_type": "code",
   "execution_count": null,
   "metadata": {},
   "outputs": [],
   "source": []
  }
 ],
 "metadata": {
  "interpreter": {
   "hash": "4f523f7c76dd18e7ed336217f32f6f704c23c323644912475b9d3570cf04b060"
  },
  "kernelspec": {
   "display_name": "Python 3.8.12 ('base')",
   "language": "python",
   "name": "python3"
  },
  "language_info": {
   "codemirror_mode": {
    "name": "ipython",
    "version": 3
   },
   "file_extension": ".py",
   "mimetype": "text/x-python",
   "name": "python",
   "nbconvert_exporter": "python",
   "pygments_lexer": "ipython3",
   "version": "3.8.12"
  },
  "orig_nbformat": 4
 },
 "nbformat": 4,
 "nbformat_minor": 2
}
