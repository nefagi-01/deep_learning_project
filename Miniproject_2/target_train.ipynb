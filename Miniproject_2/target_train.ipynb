{
 "cells": [
  {
   "cell_type": "markdown",
   "metadata": {
    "collapsed": false
   },
   "source": [
    "## Helper functions"
   ]
  },
  {
   "cell_type": "code",
   "execution_count": 83,
   "metadata": {},
   "outputs": [
    {
     "name": "stdout",
     "output_type": "stream",
     "text": [
      "The autoreload extension is already loaded. To reload it, use:\n",
      "  %reload_ext autoreload\n"
     ]
    }
   ],
   "source": [
    "%load_ext autoreload\n",
    "%autoreload 2"
   ]
  },
  {
   "cell_type": "code",
   "execution_count": 84,
   "metadata": {
    "collapsed": false,
    "pycharm": {
     "name": "#%%\n"
    }
   },
   "outputs": [],
   "source": [
    "import numpy as np\n",
    "\n",
    "from others.implementations import *\n",
    "import torch\n",
    "from target_model import *\n",
    "from torch import optim\n"
   ]
  },
  {
   "cell_type": "code",
   "execution_count": 85,
   "metadata": {
    "collapsed": false,
    "pycharm": {
     "name": "#%%\n"
    }
   },
   "outputs": [],
   "source": [
    "def generate_model(shallow_hidden_channels, deep_hidden_channels):\n",
    "    return  nn.Sequential(\n",
    "            nn.Conv2d(3, shallow_hidden_channels, kernel_size=2, stride=2, padding=0, bias=True),\n",
    "            nn.ReLU(),\n",
    "            nn.Conv2d(shallow_hidden_channels, deep_hidden_channels, kernel_size=2, stride=2, padding=0, bias=True),\n",
    "            nn.ReLU(),\n",
    "            nn.Upsample(scale_factor=2, mode='nearest'),\n",
    "            nn.Conv2d(deep_hidden_channels, shallow_hidden_channels, kernel_size=3, stride=1, padding=1, bias=True),\n",
    "            nn.ReLU(),\n",
    "            nn.Upsample(scale_factor=2, mode='nearest'),\n",
    "            nn.Conv2d(shallow_hidden_channels, 3, kernel_size=3, stride=1, padding=1, bias=True),\n",
    "            nn.Sigmoid()\n",
    "            )\n",
    "\n",
    "def test_and_train(batch_size, hidden_channels, lr, momentum, nesterov, epochs):\n",
    "    network = generate_model(shallow_hidden_channels=hidden_channels[0], deep_hidden_channels=hidden_channels[1])\n",
    "    optimizer = optim.SGD(network.parameters(), lr=lr, momentum=momentum, nesterov=nesterov)\n",
    "\n",
    "    # Instantiate model and replace network and optimizer\n",
    "    m = Model()\n",
    "    m.model = network\n",
    "    m.optimizer = optimizer\n",
    "    m.batch_size = batch_size\n",
    "\n",
    "    # Train\n",
    "    m.train(s1, s2, epochs)\n",
    "    return compute_psnr(m.predict(t1)/255.0, t2), m\n",
    "\n",
    "def sample(tensor1, tensor2, k):\n",
    "    perm = torch.randperm(tensor1.size(0))\n",
    "    idx = perm[:k]\n",
    "    return tensor1[idx], tensor2[idx]"
   ]
  },
  {
   "cell_type": "markdown",
   "metadata": {
    "collapsed": false,
    "pycharm": {
     "name": "#%% md\n"
    }
   },
   "source": [
    "## Loading data"
   ]
  },
  {
   "cell_type": "code",
   "execution_count": 86,
   "metadata": {
    "collapsed": false,
    "pycharm": {
     "name": "#%%\n"
    }
   },
   "outputs": [],
   "source": [
    "path_train = '../data/train_data.pkl'\n",
    "path_val = '../data/val_data.pkl'\n",
    "noisy_imgs_1, noisy_imgs_2 = torch.load(path_train)\n",
    "noisy_imgs_1, noisy_imgs_2 = noisy_imgs_1.float(), noisy_imgs_2.float() / 255.0\n",
    "test, truth = torch.load(path_val)\n",
    "test, truth = test.float(), truth.float() / 255.0"
   ]
  },
  {
   "cell_type": "markdown",
   "metadata": {
    "collapsed": false,
    "pycharm": {
     "name": "#%% md\n"
    }
   },
   "source": [
    "## Parameters to tune"
   ]
  },
  {
   "cell_type": "code",
   "execution_count": 87,
   "metadata": {
    "collapsed": false,
    "pycharm": {
     "name": "#%%\n"
    }
   },
   "outputs": [],
   "source": [
    "# Channels parameter\n",
    "shallow_hidden_channels = [32]\n",
    "deep_hidden_channels = [128]\n",
    "hidden_channels = [(shallow_channel, deep_channel) for shallow_channel in shallow_hidden_channels for deep_channel in deep_hidden_channels if shallow_channel <= deep_channel]\n",
    "\n",
    "# Optimizer parameters\n",
    "# lrs = np.logspace(-7, -1, 5)\n",
    "lrs = [1e-6]\n",
    "momentums = [0.9]\n",
    "nesterovs = [True]\n",
    "\n",
    "# Batch sizes\n",
    "batch_sizes = [10]"
   ]
  },
  {
   "cell_type": "markdown",
   "metadata": {
    "collapsed": false,
    "pycharm": {
     "name": "#%% md\n"
    }
   },
   "source": [
    "## Training"
   ]
  },
  {
   "cell_type": "code",
   "execution_count": 88,
   "metadata": {
    "collapsed": false,
    "pycharm": {
     "name": "#%%\n"
    }
   },
   "outputs": [],
   "source": [
    "s1, s2 = sample(noisy_imgs_1, noisy_imgs_2, 5000)\n",
    "t1, t2 = sample(test, truth, 5000)"
   ]
  },
  {
   "cell_type": "code",
   "execution_count": 89,
   "metadata": {
    "collapsed": false,
    "pycharm": {
     "name": "#%%\n"
    }
   },
   "outputs": [
    {
     "name": "stdout",
     "output_type": "stream",
     "text": [
      "\n",
      "STARTING TRAINING FOR: lr1e-06_HiddenChannels(32, 128)_Batch10_Epochs20_Momentum0.9_NesterovTrue_Sample1000\n",
      "EPOCH 0 --- LOSS 0.3729703426361084\n",
      "EPOCH 1 --- LOSS 0.031113997101783752\n",
      "EPOCH 2 --- LOSS 0.020727170631289482\n",
      "EPOCH 3 --- LOSS 0.015968862920999527\n",
      "EPOCH 4 --- LOSS 0.01271134428679943\n",
      "EPOCH 5 --- LOSS 0.010362786240875721\n",
      "EPOCH 6 --- LOSS 0.008750085718929768\n",
      "EPOCH 7 --- LOSS 0.007626623380929232\n",
      "EPOCH 8 --- LOSS 0.006809890735894442\n",
      "EPOCH 9 --- LOSS 0.006190726533532143\n",
      "EPOCH 10 --- LOSS 0.005704669281840324\n",
      "EPOCH 11 --- LOSS 0.005312198773026466\n",
      "EPOCH 12 --- LOSS 0.004987902473658323\n",
      "EPOCH 13 --- LOSS 0.0047148000448942184\n",
      "EPOCH 14 --- LOSS 0.004481127019971609\n",
      "EPOCH 15 --- LOSS 0.004278520587831736\n",
      "EPOCH 16 --- LOSS 0.0041008200496435165\n",
      "EPOCH 17 --- LOSS 0.003943456336855888\n",
      "EPOCH 18 --- LOSS 0.0038029036950320005\n",
      "EPOCH 19 --- LOSS 0.003676437307149172\n",
      "FINAL LOSS 0.0035619009286165237\n",
      "PSNR: 6.448063850402832\n"
     ]
    }
   ],
   "source": [
    "epochs = 20\n",
    "\n",
    "results = dict()\n",
    "for lr in lrs:\n",
    "    for momentum in momentums:\n",
    "        for nesterov in nesterovs:\n",
    "            for hidden_channel in hidden_channels:\n",
    "                for batch_size in batch_sizes:\n",
    "                    description = f'lr{lr}_HiddenChannels{hidden_channel}_Batch{batch_size}_Epochs{epochs}_Momentum{momentum}_Nesterov{nesterov}_Sample1000'\n",
    "                    print(\"\\nSTARTING TRAINING FOR:\", description)\n",
    "                    error, m = test_and_train(batch_size, hidden_channel, lr, momentum, nesterov, epochs)\n",
    "                    description = f'lr{lr}_HiddenChannels{hidden_channel}_Batch{batch_size}_Epochs{epochs}_Momentum{momentum}_Nesterov{nesterov}_Sample1000_{error}'\n",
    "                    results[description] = m\n",
    "                    print(f'PSNR: {error}')"
   ]
  },
  {
   "cell_type": "markdown",
   "metadata": {
    "collapsed": false,
    "pycharm": {
     "name": "#%% md\n"
    }
   },
   "source": [
    "## Final results"
   ]
  }
 ],
 "metadata": {
  "interpreter": {
   "hash": "4f523f7c76dd18e7ed336217f32f6f704c23c323644912475b9d3570cf04b060"
  },
  "kernelspec": {
   "display_name": "Python 3.8.12 ('base')",
   "language": "python",
   "name": "python3"
  },
  "language_info": {
   "codemirror_mode": {
    "name": "ipython",
    "version": 3
   },
   "file_extension": ".py",
   "mimetype": "text/x-python",
   "name": "python",
   "nbconvert_exporter": "python",
   "pygments_lexer": "ipython3",
   "version": "3.8.12"
  }
 },
 "nbformat": 4,
 "nbformat_minor": 0
}
